{
 "cells": [
  {
   "cell_type": "code",
   "execution_count": 1,
   "id": "e38c50e8-d1e2-4d0e-8edd-5f13e7d85419",
   "metadata": {},
   "outputs": [
    {
     "name": "stderr",
     "output_type": "stream",
     "text": [
      "2023-01-28 14:20:40.790510: I tensorflow/core/platform/cpu_feature_guard.cc:193] This TensorFlow binary is optimized with oneAPI Deep Neural Network Library (oneDNN) to use the following CPU instructions in performance-critical operations:  SSE4.1 SSE4.2 AVX AVX2 FMA\n",
      "To enable them in other operations, rebuild TensorFlow with the appropriate compiler flags.\n"
     ]
    }
   ],
   "source": [
    "import numpy as np\n",
    "import pandas as pd\n",
    "import math\n",
    "import matplotlib.pyplot as plt\n",
    "\n",
    "import tensorflow as tf\n",
    "from tensorflow import keras\n",
    "from tensorflow.keras.preprocessing.image import ImageDataGenerator\n",
    "from tensorflow.keras.applications import EfficientNetV2L #480x480\n",
    "import tensorflow.keras.layers as layers\n",
    "from tensorflow.keras.applications.efficientnet import preprocess_input\n",
    "from tensorflow.keras.utils import Sequence\n",
    "from tensorflow.keras import regularizers\n",
    "import imgaug.augmenters as iaa\n",
    "import imgaug\n",
    "\n",
    "from sklearn.model_selection import train_test_split"
   ]
  },
  {
   "cell_type": "code",
   "execution_count": 2,
   "id": "53908793-5d6b-4366-b573-62815bee971b",
   "metadata": {},
   "outputs": [],
   "source": [
    "pd.set_option('display.max_colwidth', None)\n",
    "#data_dir = '/run/user/1000/gvfs/smb-share:server=titan.local,share=datasets/kitchenware-classification'\n",
    "data_dir = 'data'\n",
    "seed = 42"
   ]
  },
  {
   "cell_type": "code",
   "execution_count": 3,
   "id": "575cfe6a-8031-4fb9-af38-2743aa2e63c5",
   "metadata": {},
   "outputs": [
    {
     "data": {
      "text/html": [
       "<div>\n",
       "<style scoped>\n",
       "    .dataframe tbody tr th:only-of-type {\n",
       "        vertical-align: middle;\n",
       "    }\n",
       "\n",
       "    .dataframe tbody tr th {\n",
       "        vertical-align: top;\n",
       "    }\n",
       "\n",
       "    .dataframe thead th {\n",
       "        text-align: right;\n",
       "    }\n",
       "</style>\n",
       "<table border=\"1\" class=\"dataframe\">\n",
       "  <thead>\n",
       "    <tr style=\"text-align: right;\">\n",
       "      <th></th>\n",
       "      <th>Id</th>\n",
       "      <th>label</th>\n",
       "      <th>filename</th>\n",
       "    </tr>\n",
       "  </thead>\n",
       "  <tbody>\n",
       "    <tr>\n",
       "      <th>0</th>\n",
       "      <td>glass_aug_240</td>\n",
       "      <td>glass</td>\n",
       "      <td>data/images/glass_aug_240.jpg</td>\n",
       "    </tr>\n",
       "    <tr>\n",
       "      <th>1</th>\n",
       "      <td>3479</td>\n",
       "      <td>glass</td>\n",
       "      <td>data/images/3479.jpg</td>\n",
       "    </tr>\n",
       "    <tr>\n",
       "      <th>2</th>\n",
       "      <td>7735</td>\n",
       "      <td>fork</td>\n",
       "      <td>data/images/7735.jpg</td>\n",
       "    </tr>\n",
       "    <tr>\n",
       "      <th>3</th>\n",
       "      <td>6366</td>\n",
       "      <td>spoon</td>\n",
       "      <td>data/images/6366.jpg</td>\n",
       "    </tr>\n",
       "    <tr>\n",
       "      <th>4</th>\n",
       "      <td>fork_aug_752</td>\n",
       "      <td>fork</td>\n",
       "      <td>data/images/fork_aug_752.jpg</td>\n",
       "    </tr>\n",
       "  </tbody>\n",
       "</table>\n",
       "</div>"
      ],
      "text/plain": [
       "              Id  label                       filename\n",
       "0  glass_aug_240  glass  data/images/glass_aug_240.jpg\n",
       "1           3479  glass           data/images/3479.jpg\n",
       "2           7735   fork           data/images/7735.jpg\n",
       "3           6366  spoon           data/images/6366.jpg\n",
       "4   fork_aug_752   fork   data/images/fork_aug_752.jpg"
      ]
     },
     "execution_count": 3,
     "metadata": {},
     "output_type": "execute_result"
    }
   ],
   "source": [
    "df_train_full = pd.read_csv(data_dir+'/train.csv', dtype={'Id': str})\n",
    "df_extra = pd.read_csv(data_dir+'/data.csv', dtype={'Id': str})\n",
    "df_forks = pd.read_csv(data_dir+'/forks_aug.csv', dtype={'Id': str})\n",
    "#df_spoons = pd.read_csv(data_dir+'/spoon_aug.csv', dtype={'Id': str})\n",
    "#df_plates = pd.read_csv(data_dir+'/plate_aug.csv', dtype={'Id': str})\n",
    "#df_cups = pd.read_csv(data_dir+'/cup_aug.csv', dtype={'Id': str})\n",
    "df_glasses = pd.read_csv(data_dir+'/glasses_aug.csv', dtype={'Id': str})\n",
    "df_knife = pd.read_csv(data_dir+'/knife_aug.csv', dtype={'Id': str})\n",
    "#df_train_full = pd.concat([df_train_full, df_extra, df_forks, df_spoons, df_plates, df_cups, df_glasses], ignore_index = True)\n",
    "df_train_full = pd.concat([df_train_full, df_extra, df_forks, df_glasses, df_knife], ignore_index = True)\n",
    "df_train_full['filename'] = data_dir+'/images/' + df_train_full['Id'] + '.jpg'\n",
    "df_train_full = df_train_full.sample(frac = 1, random_state = seed)\n",
    "df_train_full.reset_index(drop = True, inplace = True)\n",
    "df_train_full.head()"
   ]
  },
  {
   "cell_type": "code",
   "execution_count": 4,
   "id": "52a854f4-d099-487d-be2e-3c6f846d6a86",
   "metadata": {},
   "outputs": [
    {
     "data": {
      "text/plain": [
       "plate    1698\n",
       "cup      1625\n",
       "knife    1607\n",
       "glass    1570\n",
       "fork     1552\n",
       "spoon    1512\n",
       "Name: label, dtype: int64"
      ]
     },
     "execution_count": 4,
     "metadata": {},
     "output_type": "execute_result"
    }
   ],
   "source": [
    "df_train_full.label.value_counts()"
   ]
  },
  {
   "cell_type": "code",
   "execution_count": 5,
   "id": "c3be9d77-834c-4bfd-9e98-ab4194996639",
   "metadata": {},
   "outputs": [],
   "source": [
    "#df_forks"
   ]
  },
  {
   "cell_type": "code",
   "execution_count": 6,
   "id": "634b5a1c-33d9-4f18-8599-545d85952315",
   "metadata": {},
   "outputs": [],
   "source": [
    "image_width = 480\n",
    "image_height = 480\n",
    "NUM_CLASSES = 6\n",
    "batch_size = 32"
   ]
  },
  {
   "cell_type": "code",
   "execution_count": 7,
   "id": "0e92ad67-f64d-45d7-85c5-05774008162b",
   "metadata": {},
   "outputs": [
    {
     "data": {
      "text/html": [
       "<div>\n",
       "<style scoped>\n",
       "    .dataframe tbody tr th:only-of-type {\n",
       "        vertical-align: middle;\n",
       "    }\n",
       "\n",
       "    .dataframe tbody tr th {\n",
       "        vertical-align: top;\n",
       "    }\n",
       "\n",
       "    .dataframe thead th {\n",
       "        text-align: right;\n",
       "    }\n",
       "</style>\n",
       "<table border=\"1\" class=\"dataframe\">\n",
       "  <thead>\n",
       "    <tr style=\"text-align: right;\">\n",
       "      <th></th>\n",
       "      <th>Id</th>\n",
       "      <th>label</th>\n",
       "      <th>filename</th>\n",
       "    </tr>\n",
       "  </thead>\n",
       "  <tbody>\n",
       "    <tr>\n",
       "      <th>5963</th>\n",
       "      <td>eu.ce9f2538-f0d9-461d-85dd-f6be393aa3da</td>\n",
       "      <td>cup</td>\n",
       "      <td>data/images/eu.ce9f2538-f0d9-461d-85dd-f6be393aa3da.jpg</td>\n",
       "    </tr>\n",
       "    <tr>\n",
       "      <th>7157</th>\n",
       "      <td>6330</td>\n",
       "      <td>glass</td>\n",
       "      <td>data/images/6330.jpg</td>\n",
       "    </tr>\n",
       "    <tr>\n",
       "      <th>3670</th>\n",
       "      <td>5824</td>\n",
       "      <td>plate</td>\n",
       "      <td>data/images/5824.jpg</td>\n",
       "    </tr>\n",
       "    <tr>\n",
       "      <th>8945</th>\n",
       "      <td>eu.91274307-90eb-4bb5-98e6-8caaee7c7bb5</td>\n",
       "      <td>cup</td>\n",
       "      <td>data/images/eu.91274307-90eb-4bb5-98e6-8caaee7c7bb5.jpg</td>\n",
       "    </tr>\n",
       "    <tr>\n",
       "      <th>9052</th>\n",
       "      <td>8066</td>\n",
       "      <td>cup</td>\n",
       "      <td>data/images/8066.jpg</td>\n",
       "    </tr>\n",
       "    <tr>\n",
       "      <th>...</th>\n",
       "      <td>...</td>\n",
       "      <td>...</td>\n",
       "      <td>...</td>\n",
       "    </tr>\n",
       "    <tr>\n",
       "      <th>9207</th>\n",
       "      <td>1831</td>\n",
       "      <td>spoon</td>\n",
       "      <td>data/images/1831.jpg</td>\n",
       "    </tr>\n",
       "    <tr>\n",
       "      <th>6584</th>\n",
       "      <td>8040</td>\n",
       "      <td>spoon</td>\n",
       "      <td>data/images/8040.jpg</td>\n",
       "    </tr>\n",
       "    <tr>\n",
       "      <th>82</th>\n",
       "      <td>3578</td>\n",
       "      <td>spoon</td>\n",
       "      <td>data/images/3578.jpg</td>\n",
       "    </tr>\n",
       "    <tr>\n",
       "      <th>7607</th>\n",
       "      <td>knife_aug_12</td>\n",
       "      <td>knife</td>\n",
       "      <td>data/images/knife_aug_12.jpg</td>\n",
       "    </tr>\n",
       "    <tr>\n",
       "      <th>9463</th>\n",
       "      <td>2665</td>\n",
       "      <td>cup</td>\n",
       "      <td>data/images/2665.jpg</td>\n",
       "    </tr>\n",
       "  </tbody>\n",
       "</table>\n",
       "<p>7651 rows × 3 columns</p>\n",
       "</div>"
      ],
      "text/plain": [
       "                                           Id  label  \\\n",
       "5963  eu.ce9f2538-f0d9-461d-85dd-f6be393aa3da    cup   \n",
       "7157                                     6330  glass   \n",
       "3670                                     5824  plate   \n",
       "8945  eu.91274307-90eb-4bb5-98e6-8caaee7c7bb5    cup   \n",
       "9052                                     8066    cup   \n",
       "...                                       ...    ...   \n",
       "9207                                     1831  spoon   \n",
       "6584                                     8040  spoon   \n",
       "82                                       3578  spoon   \n",
       "7607                             knife_aug_12  knife   \n",
       "9463                                     2665    cup   \n",
       "\n",
       "                                                     filename  \n",
       "5963  data/images/eu.ce9f2538-f0d9-461d-85dd-f6be393aa3da.jpg  \n",
       "7157                                     data/images/6330.jpg  \n",
       "3670                                     data/images/5824.jpg  \n",
       "8945  data/images/eu.91274307-90eb-4bb5-98e6-8caaee7c7bb5.jpg  \n",
       "9052                                     data/images/8066.jpg  \n",
       "...                                                       ...  \n",
       "9207                                     data/images/1831.jpg  \n",
       "6584                                     data/images/8040.jpg  \n",
       "82                                       data/images/3578.jpg  \n",
       "7607                             data/images/knife_aug_12.jpg  \n",
       "9463                                     data/images/2665.jpg  \n",
       "\n",
       "[7651 rows x 3 columns]"
      ]
     },
     "execution_count": 7,
     "metadata": {},
     "output_type": "execute_result"
    }
   ],
   "source": [
    "df_train, df_val, y_train, y_val = train_test_split(df_train_full, df_train_full['label'], test_size = 0.2, shuffle = True, stratify = df_train_full['label'], random_state = seed)\n",
    "df_train"
   ]
  },
  {
   "cell_type": "code",
   "execution_count": 8,
   "id": "e10530c8-dc9a-4bb2-bdde-f34379984362",
   "metadata": {},
   "outputs": [],
   "source": [
    "histories = []\n",
    "def combine_histories():\n",
    "    history = {\n",
    "        \"loss\": [],\n",
    "        \"val_loss\": [],\n",
    "        \"accuracy\": [],\n",
    "        \"val_accuracy\": []\n",
    "    }\n",
    "    for h in histories:\n",
    "        #print(history.keys())\n",
    "        for k in history.keys():\n",
    "            history[k] += h[k]\n",
    "            #print(h[k])\n",
    "    return history"
   ]
  },
  {
   "cell_type": "code",
   "execution_count": 9,
   "id": "4298f6b0-ec53-4a70-b701-7564d034360e",
   "metadata": {},
   "outputs": [],
   "source": [
    "def plot_hist(hist):\n",
    "    #print(hist)\n",
    "    plt.plot(hist[\"accuracy\"])\n",
    "    plt.plot(hist[\"val_accuracy\"])\n",
    "    plt.title(\"model accuracy\")\n",
    "    plt.ylabel(\"accuracy\")\n",
    "    plt.xlabel(\"epoch\")\n",
    "    plt.legend([\"train\", \"validation\"], loc=\"upper left\")\n",
    "    plt.show()\n",
    "    \n"
   ]
  },
  {
   "cell_type": "code",
   "execution_count": 10,
   "id": "19defb52-9495-4247-8a66-fa8c2a774039",
   "metadata": {},
   "outputs": [],
   "source": [
    "def compile_model(model, learning_rate):\n",
    "    optimizer = tf.keras.optimizers.Adam(learning_rate=learning_rate)\n",
    "    model.compile(\n",
    "        optimizer=optimizer, loss=\"categorical_crossentropy\", metrics=[\"accuracy\"]\n",
    "    )\n",
    "    \n",
    "    return model"
   ]
  },
  {
   "cell_type": "code",
   "execution_count": 11,
   "id": "6ae02590-d85c-4d1d-a907-96ac409c633e",
   "metadata": {},
   "outputs": [],
   "source": [
    "def build_model(num_classes, learning_rate):\n",
    "    \n",
    "    inputs = layers.Input(shape = (image_width, image_height, 3))\n",
    "    x=inputs\n",
    "    model = EfficientNetV2L(include_top=False, input_tensor=x, weights=\"imagenet\")\n",
    "    #model = EfficientNetB2(include_top=False, input_tensor=x)\n",
    "    #path_to_weights = \"noisy_weights/adv.prop.notop-b2.h5\"\n",
    "    #model.load_weights(path_to_weights, by_name=True)\n",
    "\n",
    "    # Freeze the pretrained weights\n",
    "    model.trainable = False\n",
    "\n",
    "    # Rebuild top\n",
    "    x = layers.GlobalAveragePooling2D(name=\"avg_pool\")(model.output)\n",
    "    x = layers.BatchNormalization()(x)\n",
    "\n",
    "    top_dropout_rate = 0.7\n",
    "    x = layers.Dropout(top_dropout_rate, name=\"top_dropout\")(x)\n",
    "    outputs = layers.Dense(NUM_CLASSES, activation=\"softmax\", name=\"pred\", kernel_regularizer=regularizers.l2(0.01))(x)\n",
    "\n",
    "    # Compile\n",
    "    model = tf.keras.Model(inputs, outputs, name=\"EfficientNet\")\n",
    "    \n",
    "    return compile_model(model, learning_rate)"
   ]
  },
  {
   "cell_type": "code",
   "execution_count": 12,
   "id": "81609c53-583e-4b3f-bbc8-b86a309dbd70",
   "metadata": {},
   "outputs": [],
   "source": [
    "def unfreeze_model(model, freeze, learning_rate):\n",
    "    # We unfreeze the top 20 layers while leaving BatchNorm layers frozen\n",
    "    for layer in model.layers[-20:]:\n",
    "        if not isinstance(layer, layers.BatchNormalization):\n",
    "            layer.trainable = freeze\n",
    "\n",
    "    #optimizer = tf.keras.optimizers.Adam(learning_rate=learning_rate)\n",
    "    #model.compile(\n",
    "    #    optimizer=optimizer, loss=\"categorical_crossentropy\", metrics=[\"accuracy\"]\n",
    "    #)\n",
    "    return compile_model(model, learning_rate)"
   ]
  },
  {
   "cell_type": "code",
   "execution_count": 13,
   "id": "323b3002-c3b4-4033-8123-cff41496f34f",
   "metadata": {},
   "outputs": [
    {
     "name": "stdout",
     "output_type": "stream",
     "text": [
      "Found 7651 validated image filenames belonging to 6 classes.\n",
      "Found 1913 validated image filenames belonging to 6 classes.\n"
     ]
    }
   ],
   "source": [
    "train_datagen = ImageDataGenerator(preprocessing_function=preprocess_input)\n",
    "\n",
    "train_generator = train_datagen.flow_from_dataframe(\n",
    "    df_train,\n",
    "    x_col='filename',\n",
    "    y_col='label',\n",
    "    target_size=(image_width, image_height),\n",
    "    batch_size=batch_size,\n",
    "    rescale=1/255.\n",
    ")\n",
    "\n",
    "val_datagen = ImageDataGenerator(preprocessing_function=preprocess_input)\n",
    "\n",
    "val_generator = val_datagen.flow_from_dataframe(\n",
    "    df_val,\n",
    "    x_col='filename',\n",
    "    y_col='label',\n",
    "    target_size=(image_width, image_height),\n",
    "    batch_size=batch_size,\n",
    "    rescale=1/255.,\n",
    ")"
   ]
  },
  {
   "cell_type": "code",
   "execution_count": 14,
   "id": "c294d8f7-30c2-42b0-a2cf-7492cde4008a",
   "metadata": {},
   "outputs": [
    {
     "name": "stderr",
     "output_type": "stream",
     "text": [
      "2023-01-28 14:20:46.640320: I tensorflow/stream_executor/cuda/cuda_gpu_executor.cc:980] successful NUMA node read from SysFS had negative value (-1), but there must be at least one NUMA node, so returning NUMA node zero\n",
      "2023-01-28 14:20:46.678147: I tensorflow/stream_executor/cuda/cuda_gpu_executor.cc:980] successful NUMA node read from SysFS had negative value (-1), but there must be at least one NUMA node, so returning NUMA node zero\n",
      "2023-01-28 14:20:46.678353: I tensorflow/stream_executor/cuda/cuda_gpu_executor.cc:980] successful NUMA node read from SysFS had negative value (-1), but there must be at least one NUMA node, so returning NUMA node zero\n",
      "2023-01-28 14:20:46.678735: I tensorflow/core/platform/cpu_feature_guard.cc:193] This TensorFlow binary is optimized with oneAPI Deep Neural Network Library (oneDNN) to use the following CPU instructions in performance-critical operations:  SSE4.1 SSE4.2 AVX AVX2 FMA\n",
      "To enable them in other operations, rebuild TensorFlow with the appropriate compiler flags.\n",
      "2023-01-28 14:20:46.679346: I tensorflow/stream_executor/cuda/cuda_gpu_executor.cc:980] successful NUMA node read from SysFS had negative value (-1), but there must be at least one NUMA node, so returning NUMA node zero\n",
      "2023-01-28 14:20:46.679500: I tensorflow/stream_executor/cuda/cuda_gpu_executor.cc:980] successful NUMA node read from SysFS had negative value (-1), but there must be at least one NUMA node, so returning NUMA node zero\n",
      "2023-01-28 14:20:46.679635: I tensorflow/stream_executor/cuda/cuda_gpu_executor.cc:980] successful NUMA node read from SysFS had negative value (-1), but there must be at least one NUMA node, so returning NUMA node zero\n",
      "2023-01-28 14:20:47.077985: I tensorflow/stream_executor/cuda/cuda_gpu_executor.cc:980] successful NUMA node read from SysFS had negative value (-1), but there must be at least one NUMA node, so returning NUMA node zero\n",
      "2023-01-28 14:20:47.078167: I tensorflow/stream_executor/cuda/cuda_gpu_executor.cc:980] successful NUMA node read from SysFS had negative value (-1), but there must be at least one NUMA node, so returning NUMA node zero\n",
      "2023-01-28 14:20:47.078304: I tensorflow/stream_executor/cuda/cuda_gpu_executor.cc:980] successful NUMA node read from SysFS had negative value (-1), but there must be at least one NUMA node, so returning NUMA node zero\n",
      "2023-01-28 14:20:47.078409: I tensorflow/core/common_runtime/gpu/gpu_device.cc:1616] Created device /job:localhost/replica:0/task:0/device:GPU:0 with 21598 MB memory:  -> device: 0, name: NVIDIA GeForce RTX 3090, pci bus id: 0000:31:00.0, compute capability: 8.6\n"
     ]
    },
    {
     "name": "stdout",
     "output_type": "stream",
     "text": [
      "Epoch 1/20\n"
     ]
    },
    {
     "name": "stderr",
     "output_type": "stream",
     "text": [
      "2023-01-28 14:21:04.353990: I tensorflow/stream_executor/cuda/cuda_dnn.cc:384] Loaded cuDNN version 8401\n",
      "2023-01-28 14:21:05.215140: I tensorflow/core/platform/default/subprocess.cc:304] Start cannot spawn child process: No such file or directory\n",
      "2023-01-28 14:21:05.215558: I tensorflow/core/platform/default/subprocess.cc:304] Start cannot spawn child process: No such file or directory\n",
      "2023-01-28 14:21:05.215568: W tensorflow/stream_executor/gpu/asm_compiler.cc:80] Couldn't get ptxas version string: INTERNAL: Couldn't invoke ptxas --version\n",
      "2023-01-28 14:21:05.216161: I tensorflow/core/platform/default/subprocess.cc:304] Start cannot spawn child process: No such file or directory\n",
      "2023-01-28 14:21:05.216199: W tensorflow/stream_executor/gpu/redzone_allocator.cc:314] INTERNAL: Failed to launch ptxas\n",
      "Relying on driver to perform ptx compilation. \n",
      "Modify $PATH to customize ptxas location.\n",
      "This message will be only logged once.\n",
      "2023-01-28 14:21:05.653421: I tensorflow/stream_executor/cuda/cuda_blas.cc:1614] TensorFloat-32 will be used for the matrix multiplication. This will only be logged once.\n"
     ]
    },
    {
     "name": "stdout",
     "output_type": "stream",
     "text": [
      "240/240 [==============================] - 138s 519ms/step - loss: 1.4143 - accuracy: 0.6212 - val_loss: 0.4557 - val_accuracy: 0.9273\n",
      "Epoch 2/20\n",
      "240/240 [==============================] - 121s 501ms/step - loss: 0.6595 - accuracy: 0.8379 - val_loss: 0.2801 - val_accuracy: 0.9477\n",
      "Epoch 3/20\n",
      "240/240 [==============================] - 120s 501ms/step - loss: 0.5313 - accuracy: 0.8727 - val_loss: 0.2595 - val_accuracy: 0.9540\n",
      "Epoch 4/20\n",
      "240/240 [==============================] - 120s 497ms/step - loss: 0.4476 - accuracy: 0.8936 - val_loss: 0.2427 - val_accuracy: 0.9566\n",
      "Epoch 5/20\n",
      "240/240 [==============================] - 119s 496ms/step - loss: 0.4084 - accuracy: 0.9048 - val_loss: 0.2301 - val_accuracy: 0.9613\n",
      "Epoch 6/20\n",
      "240/240 [==============================] - 120s 498ms/step - loss: 0.3737 - accuracy: 0.9119 - val_loss: 0.2215 - val_accuracy: 0.9629\n",
      "Epoch 7/20\n",
      "240/240 [==============================] - 120s 497ms/step - loss: 0.3371 - accuracy: 0.9242 - val_loss: 0.2131 - val_accuracy: 0.9639\n",
      "Epoch 8/20\n",
      "240/240 [==============================] - 120s 498ms/step - loss: 0.3258 - accuracy: 0.9248 - val_loss: 0.2035 - val_accuracy: 0.9665\n",
      "Epoch 9/20\n",
      "240/240 [==============================] - 120s 498ms/step - loss: 0.3068 - accuracy: 0.9294 - val_loss: 0.1970 - val_accuracy: 0.9655\n",
      "Epoch 10/20\n",
      "240/240 [==============================] - 120s 498ms/step - loss: 0.2942 - accuracy: 0.9316 - val_loss: 0.1905 - val_accuracy: 0.9665\n",
      "Epoch 11/20\n",
      "240/240 [==============================] - 120s 498ms/step - loss: 0.2882 - accuracy: 0.9343 - val_loss: 0.1816 - val_accuracy: 0.9660\n",
      "Epoch 12/20\n",
      "240/240 [==============================] - 119s 497ms/step - loss: 0.2695 - accuracy: 0.9349 - val_loss: 0.1778 - val_accuracy: 0.9665\n",
      "Epoch 13/20\n",
      "240/240 [==============================] - 120s 498ms/step - loss: 0.2589 - accuracy: 0.9384 - val_loss: 0.1718 - val_accuracy: 0.9681\n",
      "Epoch 14/20\n",
      "240/240 [==============================] - 120s 498ms/step - loss: 0.2457 - accuracy: 0.9407 - val_loss: 0.1677 - val_accuracy: 0.9692\n",
      "Epoch 15/20\n",
      "240/240 [==============================] - 120s 498ms/step - loss: 0.2364 - accuracy: 0.9425 - val_loss: 0.1649 - val_accuracy: 0.9686\n",
      "Epoch 16/20\n",
      "240/240 [==============================] - 120s 498ms/step - loss: 0.2171 - accuracy: 0.9472 - val_loss: 0.1589 - val_accuracy: 0.9692\n",
      "Epoch 17/20\n",
      "240/240 [==============================] - 120s 498ms/step - loss: 0.2210 - accuracy: 0.9430 - val_loss: 0.1576 - val_accuracy: 0.9702\n",
      "Epoch 18/20\n",
      "240/240 [==============================] - 120s 498ms/step - loss: 0.2119 - accuracy: 0.9489 - val_loss: 0.1538 - val_accuracy: 0.9733\n",
      "Epoch 19/20\n",
      "240/240 [==============================] - 120s 499ms/step - loss: 0.2118 - accuracy: 0.9485 - val_loss: 0.1518 - val_accuracy: 0.9707\n",
      "Epoch 20/20\n",
      "240/240 [==============================] - 120s 498ms/step - loss: 0.2022 - accuracy: 0.9516 - val_loss: 0.1447 - val_accuracy: 0.9728\n"
     ]
    },
    {
     "data": {
      "image/png": "[encoded data removed]",
      "text/plain": [
       "<Figure size 640x480 with 1 Axes>"
      ]
     },
     "metadata": {},
     "output_type": "display_data"
    }
   ],
   "source": [
    "n_epochs = 20\n",
    "learning_rate=2e-4\n",
    "model = build_model(num_classes=NUM_CLASSES, learning_rate = learning_rate)\n",
    "\n",
    "hist = model.fit(\n",
    "    train_generator,\n",
    "    epochs=n_epochs,\n",
    "    validation_data=val_generator\n",
    ")\n",
    "\n",
    "histories.append(hist.history)\n",
    "history = combine_histories()\n",
    "plot_hist(history)"
   ]
  },
  {
   "cell_type": "code",
   "execution_count": 15,
   "id": "835f655c-5a6d-4963-9a6f-1cc9fa7df55a",
   "metadata": {},
   "outputs": [
    {
     "name": "stdout",
     "output_type": "stream",
     "text": [
      "Epoch 1/3\n",
      "240/240 [==============================] - 134s 509ms/step - loss: 0.2031 - accuracy: 0.9488 - val_loss: 0.1465 - val_accuracy: 0.9697\n",
      "Epoch 2/3\n",
      "240/240 [==============================] - 119s 496ms/step - loss: 0.1886 - accuracy: 0.9518 - val_loss: 0.1421 - val_accuracy: 0.9702\n",
      "Epoch 3/3\n",
      "240/240 [==============================] - 119s 497ms/step - loss: 0.2006 - accuracy: 0.9502 - val_loss: 0.1424 - val_accuracy: 0.9718\n"
     ]
    },
    {
     "data": {
      "image/png": "[encoded data removed]",
      "text/plain": [
       "<Figure size 640x480 with 1 Axes>"
      ]
     },
     "metadata": {},
     "output_type": "display_data"
    }
   ],
   "source": [
    "n_epochs = 3\n",
    "learning_rate = 1e-4\n",
    "model = compile_model(model, learning_rate)\n",
    "hist = model.fit(\n",
    "    train_generator,\n",
    "    epochs=n_epochs,\n",
    "    validation_data=val_generator\n",
    ")\n",
    "\n",
    "histories.append(hist.history)\n",
    "history = combine_histories()\n",
    "plot_hist(history)"
   ]
  },
  {
   "cell_type": "code",
   "execution_count": null,
   "id": "7ad1a6a6-11e2-446f-9c5e-03991c2f168c",
   "metadata": {},
   "outputs": [],
   "source": [
    "unfreeze_model(model, True, 1e-4)\n",
    "n_epochs = 3\n",
    "hist = model.fit(\n",
    "    train_generator,\n",
    "    epochs=n_epochs,\n",
    "    validation_data=val_generator\n",
    ")\n",
    "\n",
    "histories.append(hist.history)\n",
    "history = combine_histories()\n",
    "plot_hist(history)"
   ]
  },
  {
   "cell_type": "code",
   "execution_count": null,
   "id": "e36c096f-06ac-4f6e-95f2-6ae31106121f",
   "metadata": {},
   "outputs": [],
   "source": [
    "unfreeze_model(model, False, 3e-8)\n",
    "n_epochs = 3\n",
    "hist = model.fit(\n",
    "    train_generator,\n",
    "    epochs=n_epochs,\n",
    "    validation_data=val_generator\n",
    ")\n",
    "\n",
    "histories.append(hist.history)\n",
    "history = combine_histories()\n",
    "plot_hist(history)"
   ]
  },
  {
   "cell_type": "code",
   "execution_count": null,
   "id": "c8ace529-5f9a-4956-9f7e-615bb53bb753",
   "metadata": {},
   "outputs": [],
   "source": [
    "#history.history"
   ]
  },
  {
   "cell_type": "code",
   "execution_count": null,
   "id": "27cab20a-5d3d-43e3-875d-2700853c691c",
   "metadata": {},
   "outputs": [],
   "source": [
    "df_test = pd.read_csv(data_dir+'/test.csv', dtype={'Id': str})\n",
    "df_test['filename'] = data_dir+'/images/' + df_test['Id'] + '.jpg'\n",
    "df_test.head()"
   ]
  },
  {
   "cell_type": "code",
   "execution_count": null,
   "id": "d3cb42dd-e273-4d01-a323-9e9cb4d27824",
   "metadata": {},
   "outputs": [],
   "source": [
    "test_datagen = ImageDataGenerator(preprocessing_function=preprocess_input)\n",
    "test_generator = test_datagen.flow_from_dataframe(\n",
    "    df_test,\n",
    "    x_col='filename',\n",
    "    class_mode='input',\n",
    "    target_size=(image_width, image_height),\n",
    "    batch_size=batch_size,\n",
    "    shuffle=False\n",
    ")"
   ]
  },
  {
   "cell_type": "code",
   "execution_count": null,
   "id": "a4a1dd6d-1f80-414f-9908-9f92e2a38db3",
   "metadata": {},
   "outputs": [],
   "source": [
    "y_pred = model.predict(test_generator)"
   ]
  },
  {
   "cell_type": "code",
   "execution_count": null,
   "id": "27321e9f-66f6-4e61-bde8-770e9220e552",
   "metadata": {},
   "outputs": [],
   "source": [
    "classes = np.array(list(train_generator.class_indices.keys()))\n",
    "classes"
   ]
  },
  {
   "cell_type": "code",
   "execution_count": null,
   "id": "09f1da95-cc6b-418c-bd5c-a8e239acc5a3",
   "metadata": {},
   "outputs": [],
   "source": [
    "predictions = classes[y_pred.argmax(axis=1)]"
   ]
  },
  {
   "cell_type": "code",
   "execution_count": null,
   "id": "6f623ef2-2fab-4a05-bba1-402535630bc3",
   "metadata": {},
   "outputs": [],
   "source": [
    "df_submission = pd.DataFrame()\n",
    "df_submission['filename'] = test_generator.filenames\n",
    "df_submission['label'] = predictions\n",
    "\n",
    "df_submission['Id'] = df_submission.filename.str[len(data_dir+'/images/'):-4]\n",
    "del df_submission['filename']"
   ]
  },
  {
   "cell_type": "code",
   "execution_count": null,
   "id": "fd372b12-60c6-4ff1-8af0-24963fa02daa",
   "metadata": {},
   "outputs": [],
   "source": [
    "df_submission[['Id', 'label']].to_csv('submissions/effv2l_imnet_v9_more_forks_glasses.csv', index=False)"
   ]
  },
  {
   "cell_type": "code",
   "execution_count": null,
   "id": "e56a2b76-875c-486d-8b11-66766c994b66",
   "metadata": {},
   "outputs": [],
   "source": [
    "!kaggle competitions submit kitchenware-classification -f submissions/effv2l_imnet_v9_more_forks_glasses.csv -m 'validation: 0.9770'"
   ]
  },
  {
   "cell_type": "code",
   "execution_count": null,
   "id": "b736711a-2bc0-43c3-baa2-f4c1fd3aab74",
   "metadata": {},
   "outputs": [],
   "source": []
  }
 ],
 "metadata": {
  "kernelspec": {
   "display_name": "Python 3 (ipykernel)",
   "language": "python",
   "name": "python3"
  },
  "language_info": {
   "codemirror_mode": {
    "name": "ipython",
    "version": 3
   },
   "file_extension": ".py",
   "mimetype": "text/x-python",
   "name": "python",
   "nbconvert_exporter": "python",
   "pygments_lexer": "ipython3",
   "version": "3.10.6"
  }
 },
 "nbformat": 4,
 "nbformat_minor": 5
}
