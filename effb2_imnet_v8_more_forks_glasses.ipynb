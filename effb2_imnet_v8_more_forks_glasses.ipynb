{
 "cells": [
  {
   "cell_type": "code",
   "execution_count": null,
   "id": "e38c50e8-d1e2-4d0e-8edd-5f13e7d85419",
   "metadata": {},
   "outputs": [],
   "source": [
    "import numpy as np\n",
    "import pandas as pd\n",
    "import math\n",
    "import matplotlib.pyplot as plt\n",
    "\n",
    "import tensorflow as tf\n",
    "from tensorflow import keras\n",
    "from tensorflow.keras.preprocessing.image import ImageDataGenerator\n",
    "from tensorflow.keras.applications import EfficientNetB2 #260x260\n",
    "import tensorflow.keras.layers as layers\n",
    "from tensorflow.keras.applications.efficientnet import preprocess_input\n",
    "from tensorflow.keras.utils import Sequence\n",
    "from tensorflow.keras import regularizers\n",
    "import imgaug.augmenters as iaa\n",
    "import imgaug\n",
    "\n",
    "from sklearn.model_selection import train_test_split"
   ]
  },
  {
   "cell_type": "code",
   "execution_count": null,
   "id": "53908793-5d6b-4366-b573-62815bee971b",
   "metadata": {},
   "outputs": [],
   "source": [
    "pd.set_option('display.max_colwidth', None)\n",
    "#data_dir = '/run/user/1000/gvfs/smb-share:server=titan.local,share=datasets/kitchenware-classification'\n",
    "data_dir = 'data'\n",
    "seed = 42"
   ]
  },
  {
   "cell_type": "code",
   "execution_count": null,
   "id": "575cfe6a-8031-4fb9-af38-2743aa2e63c5",
   "metadata": {},
   "outputs": [],
   "source": [
    "df_train_full = pd.read_csv(data_dir+'/train.csv', dtype={'Id': str})\n",
    "df_extra = pd.read_csv(data_dir+'/data.csv', dtype={'Id': str})\n",
    "df_forks = pd.read_csv(data_dir+'/forks_aug.csv', dtype={'Id': str})\n",
    "#df_spoons = pd.read_csv(data_dir+'/spoon_aug.csv', dtype={'Id': str})\n",
    "#df_plates = pd.read_csv(data_dir+'/plate_aug.csv', dtype={'Id': str})\n",
    "#df_cups = pd.read_csv(data_dir+'/cup_aug.csv', dtype={'Id': str})\n",
    "df_glasses = pd.read_csv(data_dir+'/glasses_aug.csv', dtype={'Id': str})\n",
    "df_knife = pd.read_csv(data_dir+'/knife_aug.csv', dtype={'Id': str})\n",
    "#df_train_full = pd.concat([df_train_full, df_extra, df_forks, df_spoons, df_plates, df_cups, df_glasses], ignore_index = True)\n",
    "df_train_full = pd.concat([df_train_full, df_extra, df_forks, df_glasses, df_knife], ignore_index = True)\n",
    "df_train_full['filename'] = data_dir+'/images/' + df_train_full['Id'] + '.jpg'\n",
    "df_train_full = df_train_full.sample(frac = 1, random_state = seed)\n",
    "df_train_full.reset_index(drop = True, inplace = True)\n",
    "df_train_full.head()"
   ]
  },
  {
   "cell_type": "code",
   "execution_count": null,
   "id": "52a854f4-d099-487d-be2e-3c6f846d6a86",
   "metadata": {},
   "outputs": [],
   "source": [
    "df_train_full.label.value_counts()"
   ]
  },
  {
   "cell_type": "code",
   "execution_count": null,
   "id": "c3be9d77-834c-4bfd-9e98-ab4194996639",
   "metadata": {},
   "outputs": [],
   "source": [
    "#df_forks"
   ]
  },
  {
   "cell_type": "code",
   "execution_count": null,
   "id": "634b5a1c-33d9-4f18-8599-545d85952315",
   "metadata": {},
   "outputs": [],
   "source": [
    "image_width = 260\n",
    "image_height = 260\n",
    "NUM_CLASSES = 6\n",
    "batch_size = 32"
   ]
  },
  {
   "cell_type": "code",
   "execution_count": null,
   "id": "0e92ad67-f64d-45d7-85c5-05774008162b",
   "metadata": {},
   "outputs": [],
   "source": [
    "df_train, df_val, y_train, y_val = train_test_split(df_train_full, df_train_full['label'], test_size = 0.2, shuffle = True, stratify = df_train_full['label'], random_state = seed)\n",
    "df_train"
   ]
  },
  {
   "cell_type": "code",
   "execution_count": null,
   "id": "e10530c8-dc9a-4bb2-bdde-f34379984362",
   "metadata": {},
   "outputs": [],
   "source": [
    "histories = []\n",
    "def combine_histories():\n",
    "    history = {\n",
    "        \"loss\": [],\n",
    "        \"val_loss\": [],\n",
    "        \"accuracy\": [],\n",
    "        \"val_accuracy\": []\n",
    "    }\n",
    "    for h in histories:\n",
    "        #print(history.keys())\n",
    "        for k in history.keys():\n",
    "            history[k] += h[k]\n",
    "            #print(h[k])\n",
    "    return history"
   ]
  },
  {
   "cell_type": "code",
   "execution_count": null,
   "id": "4298f6b0-ec53-4a70-b701-7564d034360e",
   "metadata": {},
   "outputs": [],
   "source": [
    "def plot_hist(hist):\n",
    "    #print(hist)\n",
    "    plt.plot(hist[\"accuracy\"])\n",
    "    plt.plot(hist[\"val_accuracy\"])\n",
    "    plt.title(\"model accuracy\")\n",
    "    plt.ylabel(\"accuracy\")\n",
    "    plt.xlabel(\"epoch\")\n",
    "    plt.legend([\"train\", \"validation\"], loc=\"upper left\")\n",
    "    plt.show()\n",
    "    \n"
   ]
  },
  {
   "cell_type": "code",
   "execution_count": null,
   "id": "19defb52-9495-4247-8a66-fa8c2a774039",
   "metadata": {},
   "outputs": [],
   "source": [
    "def compile_model(model, learning_rate):\n",
    "    optimizer = tf.keras.optimizers.Adam(learning_rate=learning_rate)\n",
    "    model.compile(\n",
    "        optimizer=optimizer, loss=\"categorical_crossentropy\", metrics=[\"accuracy\"]\n",
    "    )\n",
    "    \n",
    "    return model"
   ]
  },
  {
   "cell_type": "code",
   "execution_count": null,
   "id": "6ae02590-d85c-4d1d-a907-96ac409c633e",
   "metadata": {},
   "outputs": [],
   "source": [
    "def build_model(num_classes, learning_rate):\n",
    "    \n",
    "    inputs = layers.Input(shape = (image_width, image_height, 3))\n",
    "    x=inputs\n",
    "    model = EfficientNetB2(include_top=False, input_tensor=x, weights=\"imagenet\")\n",
    "    #model = EfficientNetB2(include_top=False, input_tensor=x)\n",
    "    #path_to_weights = \"noisy_weights/adv.prop.notop-b2.h5\"\n",
    "    #model.load_weights(path_to_weights, by_name=True)\n",
    "\n",
    "    # Freeze the pretrained weights\n",
    "    model.trainable = False\n",
    "\n",
    "    # Rebuild top\n",
    "    x = layers.GlobalAveragePooling2D(name=\"avg_pool\")(model.output)\n",
    "    x = layers.BatchNormalization()(x)\n",
    "\n",
    "    top_dropout_rate = 0.7\n",
    "    x = layers.Dropout(top_dropout_rate, name=\"top_dropout\")(x)\n",
    "    outputs = layers.Dense(NUM_CLASSES, activation=\"softmax\", name=\"pred\", kernel_regularizer=regularizers.l2(0.05))(x)\n",
    "\n",
    "    # Compile\n",
    "    model = tf.keras.Model(inputs, outputs, name=\"EfficientNet\")\n",
    "    \n",
    "    return compile_model(model, learning_rate)"
   ]
  },
  {
   "cell_type": "code",
   "execution_count": null,
   "id": "81609c53-583e-4b3f-bbc8-b86a309dbd70",
   "metadata": {},
   "outputs": [],
   "source": [
    "def unfreeze_model(model, freeze, learning_rate):\n",
    "    # We unfreeze the top 20 layers while leaving BatchNorm layers frozen\n",
    "    for layer in model.layers[-20:]:\n",
    "        if not isinstance(layer, layers.BatchNormalization):\n",
    "            layer.trainable = freeze\n",
    "\n",
    "    #optimizer = tf.keras.optimizers.Adam(learning_rate=learning_rate)\n",
    "    #model.compile(\n",
    "    #    optimizer=optimizer, loss=\"categorical_crossentropy\", metrics=[\"accuracy\"]\n",
    "    #)\n",
    "    return compile_model(model, learning_rate)"
   ]
  },
  {
   "cell_type": "code",
   "execution_count": null,
   "id": "323b3002-c3b4-4033-8123-cff41496f34f",
   "metadata": {},
   "outputs": [],
   "source": [
    "train_datagen = ImageDataGenerator(preprocessing_function=preprocess_input)\n",
    "\n",
    "train_generator = train_datagen.flow_from_dataframe(\n",
    "    df_train,\n",
    "    x_col='filename',\n",
    "    y_col='label',\n",
    "    target_size=(image_width, image_height),\n",
    "    batch_size=batch_size,\n",
    "    rescale=1/255.\n",
    ")\n",
    "\n",
    "val_datagen = ImageDataGenerator(preprocessing_function=preprocess_input)\n",
    "\n",
    "val_generator = val_datagen.flow_from_dataframe(\n",
    "    df_val,\n",
    "    x_col='filename',\n",
    "    y_col='label',\n",
    "    target_size=(image_width, image_height),\n",
    "    batch_size=batch_size,\n",
    "    rescale=1/255.,\n",
    ")"
   ]
  },
  {
   "cell_type": "code",
   "execution_count": null,
   "id": "c294d8f7-30c2-42b0-a2cf-7492cde4008a",
   "metadata": {},
   "outputs": [],
   "source": [
    "n_epochs = 5\n",
    "learning_rate=5e-4\n",
    "model = build_model(num_classes=NUM_CLASSES, learning_rate = learning_rate)\n",
    "\n",
    "hist = model.fit(\n",
    "    train_generator,\n",
    "    epochs=n_epochs,\n",
    "    validation_data=val_generator\n",
    ")\n",
    "\n",
    "histories.append(hist.history)\n",
    "history = combine_histories()\n",
    "plot_hist(history)"
   ]
  },
  {
   "cell_type": "code",
   "execution_count": null,
   "id": "7ad1a6a6-11e2-446f-9c5e-03991c2f168c",
   "metadata": {},
   "outputs": [],
   "source": [
    "unfreeze_model(model, True, 1e-4)\n",
    "n_epochs = 6\n",
    "hist = model.fit(\n",
    "    train_generator,\n",
    "    epochs=n_epochs,\n",
    "    validation_data=val_generator\n",
    ")\n",
    "\n",
    "histories.append(hist.history)\n",
    "history = combine_histories()\n",
    "plot_hist(history)"
   ]
  },
  {
   "cell_type": "code",
   "execution_count": null,
   "id": "e36c096f-06ac-4f6e-95f2-6ae31106121f",
   "metadata": {},
   "outputs": [],
   "source": [
    "unfreeze_model(model, False, 2e-7)\n",
    "n_epochs = 3\n",
    "hist = model.fit(\n",
    "    train_generator,\n",
    "    epochs=n_epochs,\n",
    "    validation_data=val_generator\n",
    ")\n",
    "\n",
    "histories.append(hist.history)\n",
    "history = combine_histories()\n",
    "plot_hist(history)"
   ]
  },
  {
   "cell_type": "code",
   "execution_count": null,
   "id": "c8ace529-5f9a-4956-9f7e-615bb53bb753",
   "metadata": {},
   "outputs": [],
   "source": [
    "history.history"
   ]
  },
  {
   "cell_type": "code",
   "execution_count": null,
   "id": "27cab20a-5d3d-43e3-875d-2700853c691c",
   "metadata": {},
   "outputs": [],
   "source": [
    "df_test = pd.read_csv(data_dir+'/test.csv', dtype={'Id': str})\n",
    "df_test['filename'] = data_dir+'/images/' + df_test['Id'] + '.jpg'\n",
    "df_test.head()"
   ]
  },
  {
   "cell_type": "code",
   "execution_count": null,
   "id": "d3cb42dd-e273-4d01-a323-9e9cb4d27824",
   "metadata": {},
   "outputs": [],
   "source": [
    "test_datagen = ImageDataGenerator(preprocessing_function=preprocess_input)\n",
    "test_generator = test_datagen.flow_from_dataframe(\n",
    "    df_test,\n",
    "    x_col='filename',\n",
    "    class_mode='input',\n",
    "    target_size=(image_width, image_height),\n",
    "    batch_size=batch_size,\n",
    "    shuffle=False\n",
    ")"
   ]
  },
  {
   "cell_type": "code",
   "execution_count": null,
   "id": "a4a1dd6d-1f80-414f-9908-9f92e2a38db3",
   "metadata": {},
   "outputs": [],
   "source": [
    "y_pred = model.predict(test_generator)"
   ]
  },
  {
   "cell_type": "code",
   "execution_count": null,
   "id": "27321e9f-66f6-4e61-bde8-770e9220e552",
   "metadata": {},
   "outputs": [],
   "source": [
    "classes = np.array(list(train_generator.class_indices.keys()))\n",
    "classes"
   ]
  },
  {
   "cell_type": "code",
   "execution_count": null,
   "id": "09f1da95-cc6b-418c-bd5c-a8e239acc5a3",
   "metadata": {},
   "outputs": [],
   "source": [
    "predictions = classes[y_pred.argmax(axis=1)]"
   ]
  },
  {
   "cell_type": "code",
   "execution_count": null,
   "id": "6f623ef2-2fab-4a05-bba1-402535630bc3",
   "metadata": {},
   "outputs": [],
   "source": [
    "df_submission = pd.DataFrame()\n",
    "df_submission['filename'] = test_generator.filenames\n",
    "df_submission['label'] = predictions\n",
    "\n",
    "df_submission['Id'] = df_submission.filename.str[len(data_dir+'/images/'):-4]\n",
    "del df_submission['filename']"
   ]
  },
  {
   "cell_type": "code",
   "execution_count": null,
   "id": "fd372b12-60c6-4ff1-8af0-24963fa02daa",
   "metadata": {},
   "outputs": [],
   "source": [
    "df_submission[['Id', 'label']].to_csv('submissions/effb2_imnet_v8_more_forks.csv', index=False)"
   ]
  },
  {
   "cell_type": "code",
   "execution_count": null,
   "id": "e56a2b76-875c-486d-8b11-66766c994b66",
   "metadata": {},
   "outputs": [],
   "source": [
    "!kaggle competitions submit kitchenware-classification -f submissions/effb2_imnet_v8_more_forks.csv -m 'validation: 0.9652'"
   ]
  },
  {
   "cell_type": "code",
   "execution_count": null,
   "id": "b736711a-2bc0-43c3-baa2-f4c1fd3aab74",
   "metadata": {},
   "outputs": [],
   "source": []
  }
 ],
 "metadata": {
  "kernelspec": {
   "display_name": "Python 3 (ipykernel)",
   "language": "python",
   "name": "python3"
  },
  "language_info": {
   "codemirror_mode": {
    "name": "ipython",
    "version": 3
   },
   "file_extension": ".py",
   "mimetype": "text/x-python",
   "name": "python",
   "nbconvert_exporter": "python",
   "pygments_lexer": "ipython3",
   "version": "3.10.6"
  }
 },
 "nbformat": 4,
 "nbformat_minor": 5
}
