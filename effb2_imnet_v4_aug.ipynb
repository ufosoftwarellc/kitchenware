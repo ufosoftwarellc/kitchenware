{
 "cells": [
  {
   "cell_type": "code",
   "execution_count": 1,
   "id": "e38c50e8-d1e2-4d0e-8edd-5f13e7d85419",
   "metadata": {},
   "outputs": [
    {
     "name": "stderr",
     "output_type": "stream",
     "text": [
      "2023-01-19 14:53:05.205252: I tensorflow/core/platform/cpu_feature_guard.cc:193] This TensorFlow binary is optimized with oneAPI Deep Neural Network Library (oneDNN) to use the following CPU instructions in performance-critical operations:  SSE4.1 SSE4.2 AVX AVX2 FMA\n",
      "To enable them in other operations, rebuild TensorFlow with the appropriate compiler flags.\n"
     ]
    }
   ],
   "source": [
    "import numpy as np\n",
    "import pandas as pd\n",
    "import math\n",
    "\n",
    "import tensorflow as tf\n",
    "from tensorflow import keras\n",
    "from tensorflow.keras.preprocessing.image import ImageDataGenerator\n",
    "from tensorflow.keras.applications import EfficientNetB2 #260x260\n",
    "import tensorflow.keras.layers as layers\n",
    "from tensorflow.keras.applications.efficientnet import preprocess_input\n",
    "from tensorflow.keras.utils import Sequence\n",
    "import imgaug.augmenters as iaa\n",
    "import imgaug\n",
    "\n",
    "from sklearn.model_selection import train_test_split"
   ]
  },
  {
   "cell_type": "code",
   "execution_count": 2,
   "id": "53908793-5d6b-4366-b573-62815bee971b",
   "metadata": {},
   "outputs": [],
   "source": [
    "data_dir = '/run/user/1000/gvfs/smb-share:server=titan.local,share=datasets/kitchenware-classification'\n",
    "seed = 42"
   ]
  },
  {
   "cell_type": "code",
   "execution_count": 3,
   "id": "575cfe6a-8031-4fb9-af38-2743aa2e63c5",
   "metadata": {},
   "outputs": [
    {
     "data": {
      "text/html": [
       "<div>\n",
       "<style scoped>\n",
       "    .dataframe tbody tr th:only-of-type {\n",
       "        vertical-align: middle;\n",
       "    }\n",
       "\n",
       "    .dataframe tbody tr th {\n",
       "        vertical-align: top;\n",
       "    }\n",
       "\n",
       "    .dataframe thead th {\n",
       "        text-align: right;\n",
       "    }\n",
       "</style>\n",
       "<table border=\"1\" class=\"dataframe\">\n",
       "  <thead>\n",
       "    <tr style=\"text-align: right;\">\n",
       "      <th></th>\n",
       "      <th>Id</th>\n",
       "      <th>label</th>\n",
       "      <th>filename</th>\n",
       "    </tr>\n",
       "  </thead>\n",
       "  <tbody>\n",
       "    <tr>\n",
       "      <th>0</th>\n",
       "      <td>0560</td>\n",
       "      <td>glass</td>\n",
       "      <td>/run/user/1000/gvfs/smb-share:server=titan.loc...</td>\n",
       "    </tr>\n",
       "    <tr>\n",
       "      <th>1</th>\n",
       "      <td>4675</td>\n",
       "      <td>cup</td>\n",
       "      <td>/run/user/1000/gvfs/smb-share:server=titan.loc...</td>\n",
       "    </tr>\n",
       "    <tr>\n",
       "      <th>2</th>\n",
       "      <td>0875</td>\n",
       "      <td>glass</td>\n",
       "      <td>/run/user/1000/gvfs/smb-share:server=titan.loc...</td>\n",
       "    </tr>\n",
       "    <tr>\n",
       "      <th>3</th>\n",
       "      <td>4436</td>\n",
       "      <td>spoon</td>\n",
       "      <td>/run/user/1000/gvfs/smb-share:server=titan.loc...</td>\n",
       "    </tr>\n",
       "    <tr>\n",
       "      <th>4</th>\n",
       "      <td>8265</td>\n",
       "      <td>plate</td>\n",
       "      <td>/run/user/1000/gvfs/smb-share:server=titan.loc...</td>\n",
       "    </tr>\n",
       "  </tbody>\n",
       "</table>\n",
       "</div>"
      ],
      "text/plain": [
       "     Id  label                                           filename\n",
       "0  0560  glass  /run/user/1000/gvfs/smb-share:server=titan.loc...\n",
       "1  4675    cup  /run/user/1000/gvfs/smb-share:server=titan.loc...\n",
       "2  0875  glass  /run/user/1000/gvfs/smb-share:server=titan.loc...\n",
       "3  4436  spoon  /run/user/1000/gvfs/smb-share:server=titan.loc...\n",
       "4  8265  plate  /run/user/1000/gvfs/smb-share:server=titan.loc..."
      ]
     },
     "execution_count": 3,
     "metadata": {},
     "output_type": "execute_result"
    }
   ],
   "source": [
    "df_train_full = pd.read_csv(data_dir+'/train.csv', dtype={'Id': str})\n",
    "df_extra = pd.read_csv(data_dir+'/data.csv', dtype={'Id': str})\n",
    "df_train_full = pd.concat([df_train_full, df_extra], ignore_index = True)\n",
    "df_train_full['filename'] = data_dir+'/images/' + df_train_full['Id'] + '.jpg'\n",
    "df_train_full.head()"
   ]
  },
  {
   "cell_type": "code",
   "execution_count": 4,
   "id": "634b5a1c-33d9-4f18-8599-545d85952315",
   "metadata": {},
   "outputs": [],
   "source": [
    "image_width = 260\n",
    "image_height = 260\n",
    "NUM_CLASSES = 6\n",
    "batch_size = 32\n",
    "n_epochs = 12\n",
    "learning_rate=1e-4"
   ]
  },
  {
   "cell_type": "code",
   "execution_count": 5,
   "id": "0e92ad67-f64d-45d7-85c5-05774008162b",
   "metadata": {},
   "outputs": [
    {
     "data": {
      "text/html": [
       "<div>\n",
       "<style scoped>\n",
       "    .dataframe tbody tr th:only-of-type {\n",
       "        vertical-align: middle;\n",
       "    }\n",
       "\n",
       "    .dataframe tbody tr th {\n",
       "        vertical-align: top;\n",
       "    }\n",
       "\n",
       "    .dataframe thead th {\n",
       "        text-align: right;\n",
       "    }\n",
       "</style>\n",
       "<table border=\"1\" class=\"dataframe\">\n",
       "  <thead>\n",
       "    <tr style=\"text-align: right;\">\n",
       "      <th></th>\n",
       "      <th>Id</th>\n",
       "      <th>label</th>\n",
       "      <th>filename</th>\n",
       "    </tr>\n",
       "  </thead>\n",
       "  <tbody>\n",
       "    <tr>\n",
       "      <th>7592</th>\n",
       "      <td>eu.95a129ef-d94a-4ab0-a4e4-e66aac61e55f</td>\n",
       "      <td>fork</td>\n",
       "      <td>/run/user/1000/gvfs/smb-share:server=titan.loc...</td>\n",
       "    </tr>\n",
       "    <tr>\n",
       "      <th>7704</th>\n",
       "      <td>eu.b90f170d-c2d2-47bf-bd61-375f9032e98f</td>\n",
       "      <td>cup</td>\n",
       "      <td>/run/user/1000/gvfs/smb-share:server=titan.loc...</td>\n",
       "    </tr>\n",
       "    <tr>\n",
       "      <th>7840</th>\n",
       "      <td>eu.84a95cb4-6026-40ed-bfb6-936d297a7d91</td>\n",
       "      <td>cup</td>\n",
       "      <td>/run/user/1000/gvfs/smb-share:server=titan.loc...</td>\n",
       "    </tr>\n",
       "    <tr>\n",
       "      <th>5030</th>\n",
       "      <td>5485</td>\n",
       "      <td>fork</td>\n",
       "      <td>/run/user/1000/gvfs/smb-share:server=titan.loc...</td>\n",
       "    </tr>\n",
       "    <tr>\n",
       "      <th>7114</th>\n",
       "      <td>eu.edfa5512-6f5d-4cf7-bbcc-a31eace9b484</td>\n",
       "      <td>spoon</td>\n",
       "      <td>/run/user/1000/gvfs/smb-share:server=titan.loc...</td>\n",
       "    </tr>\n",
       "    <tr>\n",
       "      <th>...</th>\n",
       "      <td>...</td>\n",
       "      <td>...</td>\n",
       "      <td>...</td>\n",
       "    </tr>\n",
       "    <tr>\n",
       "      <th>5033</th>\n",
       "      <td>5725</td>\n",
       "      <td>plate</td>\n",
       "      <td>/run/user/1000/gvfs/smb-share:server=titan.loc...</td>\n",
       "    </tr>\n",
       "    <tr>\n",
       "      <th>4172</th>\n",
       "      <td>5120</td>\n",
       "      <td>plate</td>\n",
       "      <td>/run/user/1000/gvfs/smb-share:server=titan.loc...</td>\n",
       "    </tr>\n",
       "    <tr>\n",
       "      <th>4507</th>\n",
       "      <td>9013</td>\n",
       "      <td>cup</td>\n",
       "      <td>/run/user/1000/gvfs/smb-share:server=titan.loc...</td>\n",
       "    </tr>\n",
       "    <tr>\n",
       "      <th>3625</th>\n",
       "      <td>2070</td>\n",
       "      <td>cup</td>\n",
       "      <td>/run/user/1000/gvfs/smb-share:server=titan.loc...</td>\n",
       "    </tr>\n",
       "    <tr>\n",
       "      <th>17</th>\n",
       "      <td>2220</td>\n",
       "      <td>plate</td>\n",
       "      <td>/run/user/1000/gvfs/smb-share:server=titan.loc...</td>\n",
       "    </tr>\n",
       "  </tbody>\n",
       "</table>\n",
       "<p>6390 rows × 3 columns</p>\n",
       "</div>"
      ],
      "text/plain": [
       "                                           Id  label  \\\n",
       "7592  eu.95a129ef-d94a-4ab0-a4e4-e66aac61e55f   fork   \n",
       "7704  eu.b90f170d-c2d2-47bf-bd61-375f9032e98f    cup   \n",
       "7840  eu.84a95cb4-6026-40ed-bfb6-936d297a7d91    cup   \n",
       "5030                                     5485   fork   \n",
       "7114  eu.edfa5512-6f5d-4cf7-bbcc-a31eace9b484  spoon   \n",
       "...                                       ...    ...   \n",
       "5033                                     5725  plate   \n",
       "4172                                     5120  plate   \n",
       "4507                                     9013    cup   \n",
       "3625                                     2070    cup   \n",
       "17                                       2220  plate   \n",
       "\n",
       "                                               filename  \n",
       "7592  /run/user/1000/gvfs/smb-share:server=titan.loc...  \n",
       "7704  /run/user/1000/gvfs/smb-share:server=titan.loc...  \n",
       "7840  /run/user/1000/gvfs/smb-share:server=titan.loc...  \n",
       "5030  /run/user/1000/gvfs/smb-share:server=titan.loc...  \n",
       "7114  /run/user/1000/gvfs/smb-share:server=titan.loc...  \n",
       "...                                                 ...  \n",
       "5033  /run/user/1000/gvfs/smb-share:server=titan.loc...  \n",
       "4172  /run/user/1000/gvfs/smb-share:server=titan.loc...  \n",
       "4507  /run/user/1000/gvfs/smb-share:server=titan.loc...  \n",
       "3625  /run/user/1000/gvfs/smb-share:server=titan.loc...  \n",
       "17    /run/user/1000/gvfs/smb-share:server=titan.loc...  \n",
       "\n",
       "[6390 rows x 3 columns]"
      ]
     },
     "execution_count": 5,
     "metadata": {},
     "output_type": "execute_result"
    }
   ],
   "source": [
    "df_train, df_val, y_train, y_val = train_test_split(df_train_full, df_train_full['label'], test_size = 0.2, shuffle = True, stratify = df_train_full['label'], random_state = seed)\n",
    "df_train"
   ]
  },
  {
   "cell_type": "code",
   "execution_count": 6,
   "id": "c143d9d9-edbd-4c56-8f69-780ba4af7310",
   "metadata": {},
   "outputs": [],
   "source": [
    "train_aug = iaa.Sequential(\n",
    "    [\n",
    "        #iaa.Resize({\"height\": image_height, \"width\": image_width}, interpolation=imgaug.ALL),\n",
    "        iaa.Fliplr(0.3),\n",
    "        iaa.Flipud(0.3), # vertically flip 20% of all images\n",
    "        # Make some images brighter and some darker.\n",
    "        # In 20% of all cases, we sample the multiplier once per channel,\n",
    "        # which can end up changing the color of the images.\n",
    "        #iaa.Sometimes(0.3,iaa.Multiply((0.8, 1.2), per_channel=0.2)),\n",
    "        # `Sometimes()` applies a function randomly to the inputs with\n",
    "        # a given probability (0.3, in this case).\n",
    "        iaa.Sometimes(0.1, iaa.Cutout()),\n",
    "        iaa.Sometimes(0.1, iaa.GaussianBlur(sigma=(0, 0.5))),\n",
    "        #iaa.Sometimes(0.1, iaa.Cartoon(blur_ksize=3, segmentation_size=1.0, saturation=2.0, edge_prevalence=1.0))\n",
    "    ],\n",
    "    name = \"train_aug\"\n",
    ")"
   ]
  },
  {
   "cell_type": "code",
   "execution_count": 7,
   "id": "6ae02590-d85c-4d1d-a907-96ac409c633e",
   "metadata": {},
   "outputs": [],
   "source": [
    "def build_model(num_classes):\n",
    "    \n",
    "    inputs = layers.Input(shape = (image_width, image_height, 3))\n",
    "    x=inputs\n",
    "    model = EfficientNetB2(include_top=False, input_tensor=x, weights=\"imagenet\")\n",
    "    # Freeze the pretrained weights\n",
    "    model.trainable = False\n",
    "\n",
    "    # Rebuild top\n",
    "    x = layers.GlobalAveragePooling2D(name=\"avg_pool\")(model.output)\n",
    "    x = layers.BatchNormalization()(x)\n",
    "\n",
    "    top_dropout_rate = 0.2\n",
    "    x = layers.Dropout(top_dropout_rate, name=\"top_dropout\")(x)\n",
    "    outputs = layers.Dense(NUM_CLASSES, activation=\"softmax\", name=\"pred\")(x)\n",
    "\n",
    "    # Compile\n",
    "    model = tf.keras.Model(inputs, outputs, name=\"EfficientNet\")\n",
    "    optimizer = tf.keras.optimizers.Adam(learning_rate=learning_rate)\n",
    "    model.compile(\n",
    "        optimizer=optimizer, loss=\"categorical_crossentropy\", metrics=[\"accuracy\"]\n",
    "    )\n",
    "    \n",
    "    return model"
   ]
  },
  {
   "cell_type": "code",
   "execution_count": 8,
   "id": "323b3002-c3b4-4033-8123-cff41496f34f",
   "metadata": {},
   "outputs": [
    {
     "name": "stdout",
     "output_type": "stream",
     "text": [
      "Found 6390 validated image filenames belonging to 6 classes.\n",
      "Found 1598 validated image filenames belonging to 6 classes.\n"
     ]
    }
   ],
   "source": [
    "train_datagen = ImageDataGenerator(preprocessing_function=train_aug.augment_image)\n",
    "\n",
    "train_generator = train_datagen.flow_from_dataframe(\n",
    "    df_train,\n",
    "    x_col='filename',\n",
    "    y_col='label',\n",
    "    target_size=(image_width, image_height),\n",
    "    batch_size=batch_size,\n",
    "    rescale=1/255.\n",
    ")\n",
    "\n",
    "val_datagen = ImageDataGenerator(preprocessing_function=preprocess_input)\n",
    "\n",
    "val_generator = val_datagen.flow_from_dataframe(\n",
    "    df_val,\n",
    "    x_col='filename',\n",
    "    y_col='label',\n",
    "    target_size=(image_width, image_height),\n",
    "    batch_size=batch_size,\n",
    "    rescale=1/255.,\n",
    ")"
   ]
  },
  {
   "cell_type": "code",
   "execution_count": 9,
   "id": "c294d8f7-30c2-42b0-a2cf-7492cde4008a",
   "metadata": {},
   "outputs": [
    {
     "name": "stderr",
     "output_type": "stream",
     "text": [
      "2023-01-19 14:53:17.955171: I tensorflow/stream_executor/cuda/cuda_gpu_executor.cc:980] successful NUMA node read from SysFS had negative value (-1), but there must be at least one NUMA node, so returning NUMA node zero\n",
      "2023-01-19 14:53:18.002958: I tensorflow/stream_executor/cuda/cuda_gpu_executor.cc:980] successful NUMA node read from SysFS had negative value (-1), but there must be at least one NUMA node, so returning NUMA node zero\n",
      "2023-01-19 14:53:18.003174: I tensorflow/stream_executor/cuda/cuda_gpu_executor.cc:980] successful NUMA node read from SysFS had negative value (-1), but there must be at least one NUMA node, so returning NUMA node zero\n",
      "2023-01-19 14:53:18.003551: I tensorflow/core/platform/cpu_feature_guard.cc:193] This TensorFlow binary is optimized with oneAPI Deep Neural Network Library (oneDNN) to use the following CPU instructions in performance-critical operations:  SSE4.1 SSE4.2 AVX AVX2 FMA\n",
      "To enable them in other operations, rebuild TensorFlow with the appropriate compiler flags.\n",
      "2023-01-19 14:53:18.004128: I tensorflow/stream_executor/cuda/cuda_gpu_executor.cc:980] successful NUMA node read from SysFS had negative value (-1), but there must be at least one NUMA node, so returning NUMA node zero\n",
      "2023-01-19 14:53:18.004275: I tensorflow/stream_executor/cuda/cuda_gpu_executor.cc:980] successful NUMA node read from SysFS had negative value (-1), but there must be at least one NUMA node, so returning NUMA node zero\n",
      "2023-01-19 14:53:18.004407: I tensorflow/stream_executor/cuda/cuda_gpu_executor.cc:980] successful NUMA node read from SysFS had negative value (-1), but there must be at least one NUMA node, so returning NUMA node zero\n",
      "2023-01-19 14:53:18.400549: I tensorflow/stream_executor/cuda/cuda_gpu_executor.cc:980] successful NUMA node read from SysFS had negative value (-1), but there must be at least one NUMA node, so returning NUMA node zero\n",
      "2023-01-19 14:53:18.400729: I tensorflow/stream_executor/cuda/cuda_gpu_executor.cc:980] successful NUMA node read from SysFS had negative value (-1), but there must be at least one NUMA node, so returning NUMA node zero\n",
      "2023-01-19 14:53:18.400871: I tensorflow/stream_executor/cuda/cuda_gpu_executor.cc:980] successful NUMA node read from SysFS had negative value (-1), but there must be at least one NUMA node, so returning NUMA node zero\n",
      "2023-01-19 14:53:18.400979: I tensorflow/core/common_runtime/gpu/gpu_device.cc:1616] Created device /job:localhost/replica:0/task:0/device:GPU:0 with 21529 MB memory:  -> device: 0, name: NVIDIA GeForce RTX 3090, pci bus id: 0000:31:00.0, compute capability: 8.6\n"
     ]
    },
    {
     "name": "stdout",
     "output_type": "stream",
     "text": [
      "Epoch 1/12\n"
     ]
    },
    {
     "name": "stderr",
     "output_type": "stream",
     "text": [
      "2023-01-19 14:53:25.722106: I tensorflow/stream_executor/cuda/cuda_dnn.cc:384] Loaded cuDNN version 8401\n"
     ]
    },
    {
     "name": "stdout",
     "output_type": "stream",
     "text": [
      "  1/200 [..............................] - ETA: 20:06 - loss: 2.3908 - accuracy: 0.1250"
     ]
    },
    {
     "name": "stderr",
     "output_type": "stream",
     "text": [
      "2023-01-19 14:53:26.591542: I tensorflow/core/platform/default/subprocess.cc:304] Start cannot spawn child process: No such file or directory\n",
      "2023-01-19 14:53:26.592060: I tensorflow/core/platform/default/subprocess.cc:304] Start cannot spawn child process: No such file or directory\n",
      "2023-01-19 14:53:26.592070: W tensorflow/stream_executor/gpu/asm_compiler.cc:80] Couldn't get ptxas version string: INTERNAL: Couldn't invoke ptxas --version\n",
      "2023-01-19 14:53:26.592823: I tensorflow/core/platform/default/subprocess.cc:304] Start cannot spawn child process: No such file or directory\n",
      "2023-01-19 14:53:26.592859: W tensorflow/stream_executor/gpu/redzone_allocator.cc:314] INTERNAL: Failed to launch ptxas\n",
      "Relying on driver to perform ptx compilation. \n",
      "Modify $PATH to customize ptxas location.\n",
      "This message will be only logged once.\n",
      "2023-01-19 14:53:26.617363: I tensorflow/stream_executor/cuda/cuda_blas.cc:1614] TensorFloat-32 will be used for the matrix multiplication. This will only be logged once.\n"
     ]
    },
    {
     "name": "stdout",
     "output_type": "stream",
     "text": [
      "200/200 [==============================] - 138s 665ms/step - loss: 1.2338 - accuracy: 0.5723 - val_loss: 0.5728 - val_accuracy: 0.8730\n",
      "Epoch 2/12\n",
      "200/200 [==============================] - 135s 676ms/step - loss: 0.4809 - accuracy: 0.8416 - val_loss: 0.2768 - val_accuracy: 0.9180\n",
      "Epoch 3/12\n",
      "200/200 [==============================] - 133s 664ms/step - loss: 0.3463 - accuracy: 0.8905 - val_loss: 0.2208 - val_accuracy: 0.9312\n",
      "Epoch 4/12\n",
      "200/200 [==============================] - 133s 664ms/step - loss: 0.2906 - accuracy: 0.9023 - val_loss: 0.1971 - val_accuracy: 0.9355\n",
      "Epoch 5/12\n",
      "200/200 [==============================] - 128s 641ms/step - loss: 0.2560 - accuracy: 0.9192 - val_loss: 0.1849 - val_accuracy: 0.9393\n",
      "Epoch 6/12\n",
      "200/200 [==============================] - 137s 688ms/step - loss: 0.2451 - accuracy: 0.9211 - val_loss: 0.1750 - val_accuracy: 0.9424\n",
      "Epoch 7/12\n",
      "200/200 [==============================] - 130s 649ms/step - loss: 0.2186 - accuracy: 0.9285 - val_loss: 0.1689 - val_accuracy: 0.9418\n",
      "Epoch 8/12\n",
      "200/200 [==============================] - 133s 663ms/step - loss: 0.2180 - accuracy: 0.9282 - val_loss: 0.1646 - val_accuracy: 0.9456\n",
      "Epoch 9/12\n",
      "200/200 [==============================] - 134s 669ms/step - loss: 0.1987 - accuracy: 0.9318 - val_loss: 0.1631 - val_accuracy: 0.9449\n",
      "Epoch 10/12\n",
      "200/200 [==============================] - 125s 624ms/step - loss: 0.1926 - accuracy: 0.9363 - val_loss: 0.1617 - val_accuracy: 0.9462\n",
      "Epoch 11/12\n",
      "200/200 [==============================] - 132s 661ms/step - loss: 0.1912 - accuracy: 0.9369 - val_loss: 0.1596 - val_accuracy: 0.9456\n",
      "Epoch 12/12\n",
      "200/200 [==============================] - 146s 730ms/step - loss: 0.1806 - accuracy: 0.9404 - val_loss: 0.1574 - val_accuracy: 0.9481\n"
     ]
    }
   ],
   "source": [
    "model = build_model(num_classes=NUM_CLASSES)\n",
    "\n",
    "history = model.fit(\n",
    "    train_generator,\n",
    "    epochs=n_epochs,\n",
    "    validation_data=val_generator\n",
    ")"
   ]
  },
  {
   "cell_type": "code",
   "execution_count": 11,
   "id": "27cab20a-5d3d-43e3-875d-2700853c691c",
   "metadata": {},
   "outputs": [
    {
     "data": {
      "text/html": [
       "<div>\n",
       "<style scoped>\n",
       "    .dataframe tbody tr th:only-of-type {\n",
       "        vertical-align: middle;\n",
       "    }\n",
       "\n",
       "    .dataframe tbody tr th {\n",
       "        vertical-align: top;\n",
       "    }\n",
       "\n",
       "    .dataframe thead th {\n",
       "        text-align: right;\n",
       "    }\n",
       "</style>\n",
       "<table border=\"1\" class=\"dataframe\">\n",
       "  <thead>\n",
       "    <tr style=\"text-align: right;\">\n",
       "      <th></th>\n",
       "      <th>Id</th>\n",
       "      <th>filename</th>\n",
       "    </tr>\n",
       "  </thead>\n",
       "  <tbody>\n",
       "    <tr>\n",
       "      <th>0</th>\n",
       "      <td>0678</td>\n",
       "      <td>/run/user/1000/gvfs/smb-share:server=titan.loc...</td>\n",
       "    </tr>\n",
       "    <tr>\n",
       "      <th>1</th>\n",
       "      <td>3962</td>\n",
       "      <td>/run/user/1000/gvfs/smb-share:server=titan.loc...</td>\n",
       "    </tr>\n",
       "    <tr>\n",
       "      <th>2</th>\n",
       "      <td>9271</td>\n",
       "      <td>/run/user/1000/gvfs/smb-share:server=titan.loc...</td>\n",
       "    </tr>\n",
       "    <tr>\n",
       "      <th>3</th>\n",
       "      <td>5133</td>\n",
       "      <td>/run/user/1000/gvfs/smb-share:server=titan.loc...</td>\n",
       "    </tr>\n",
       "    <tr>\n",
       "      <th>4</th>\n",
       "      <td>8842</td>\n",
       "      <td>/run/user/1000/gvfs/smb-share:server=titan.loc...</td>\n",
       "    </tr>\n",
       "  </tbody>\n",
       "</table>\n",
       "</div>"
      ],
      "text/plain": [
       "     Id                                           filename\n",
       "0  0678  /run/user/1000/gvfs/smb-share:server=titan.loc...\n",
       "1  3962  /run/user/1000/gvfs/smb-share:server=titan.loc...\n",
       "2  9271  /run/user/1000/gvfs/smb-share:server=titan.loc...\n",
       "3  5133  /run/user/1000/gvfs/smb-share:server=titan.loc...\n",
       "4  8842  /run/user/1000/gvfs/smb-share:server=titan.loc..."
      ]
     },
     "execution_count": 11,
     "metadata": {},
     "output_type": "execute_result"
    }
   ],
   "source": [
    "df_test = pd.read_csv(data_dir+'/test.csv', dtype={'Id': str})\n",
    "df_test['filename'] = data_dir+'/images/' + df_test['Id'] + '.jpg'\n",
    "df_test.head()"
   ]
  },
  {
   "cell_type": "code",
   "execution_count": 12,
   "id": "d3cb42dd-e273-4d01-a323-9e9cb4d27824",
   "metadata": {},
   "outputs": [
    {
     "name": "stdout",
     "output_type": "stream",
     "text": [
      "Found 3808 validated image filenames.\n"
     ]
    }
   ],
   "source": [
    "test_datagen = ImageDataGenerator(preprocessing_function=preprocess_input)\n",
    "test_generator = test_datagen.flow_from_dataframe(\n",
    "    df_test,\n",
    "    x_col='filename',\n",
    "    class_mode='input',\n",
    "    target_size=(image_width, image_height),\n",
    "    batch_size=batch_size,\n",
    "    shuffle=False\n",
    ")"
   ]
  },
  {
   "cell_type": "code",
   "execution_count": 13,
   "id": "a4a1dd6d-1f80-414f-9908-9f92e2a38db3",
   "metadata": {},
   "outputs": [
    {
     "name": "stdout",
     "output_type": "stream",
     "text": [
      "119/119 [==============================] - 82s 680ms/step\n"
     ]
    }
   ],
   "source": [
    "y_pred = model.predict(test_generator)"
   ]
  },
  {
   "cell_type": "code",
   "execution_count": 14,
   "id": "27321e9f-66f6-4e61-bde8-770e9220e552",
   "metadata": {},
   "outputs": [
    {
     "data": {
      "text/plain": [
       "array(['cup', 'fork', 'glass', 'knife', 'plate', 'spoon'], dtype='<U5')"
      ]
     },
     "execution_count": 14,
     "metadata": {},
     "output_type": "execute_result"
    }
   ],
   "source": [
    "classes = np.array(list(train_generator.class_indices.keys()))\n",
    "classes"
   ]
  },
  {
   "cell_type": "code",
   "execution_count": 15,
   "id": "09f1da95-cc6b-418c-bd5c-a8e239acc5a3",
   "metadata": {},
   "outputs": [],
   "source": [
    "predictions = classes[y_pred.argmax(axis=1)]"
   ]
  },
  {
   "cell_type": "code",
   "execution_count": 16,
   "id": "6f623ef2-2fab-4a05-bba1-402535630bc3",
   "metadata": {},
   "outputs": [],
   "source": [
    "df_submission = pd.DataFrame()\n",
    "df_submission['filename'] = test_generator.filenames\n",
    "df_submission['label'] = predictions\n",
    "\n",
    "df_submission['Id'] = df_submission.filename.str[len(data_dir+'/images/'):-4]\n",
    "del df_submission['filename']"
   ]
  },
  {
   "cell_type": "code",
   "execution_count": 17,
   "id": "fd372b12-60c6-4ff1-8af0-24963fa02daa",
   "metadata": {},
   "outputs": [],
   "source": [
    "df_submission[['Id', 'label']].to_csv('submissions/effb2_imnet_v4_aug.csv', index=False)"
   ]
  },
  {
   "cell_type": "code",
   "execution_count": 18,
   "id": "e56a2b76-875c-486d-8b11-66766c994b66",
   "metadata": {},
   "outputs": [
    {
     "name": "stdout",
     "output_type": "stream",
     "text": [
      "100%|██████████████████████████████████████| 38.8k/38.8k [00:02<00:00, 17.6kB/s]\n",
      "Successfully submitted to Kitchenware Classification"
     ]
    }
   ],
   "source": [
    "!kaggle competitions submit kitchenware-classification -f submissions/effb2_imnet_v4_aug.csv -m 'validation: 0.9481'"
   ]
  },
  {
   "cell_type": "code",
   "execution_count": null,
   "id": "b736711a-2bc0-43c3-baa2-f4c1fd3aab74",
   "metadata": {},
   "outputs": [],
   "source": []
  }
 ],
 "metadata": {
  "kernelspec": {
   "display_name": "Python 3 (ipykernel)",
   "language": "python",
   "name": "python3"
  },
  "language_info": {
   "codemirror_mode": {
    "name": "ipython",
    "version": 3
   },
   "file_extension": ".py",
   "mimetype": "text/x-python",
   "name": "python",
   "nbconvert_exporter": "python",
   "pygments_lexer": "ipython3",
   "version": "3.10.6"
  }
 },
 "nbformat": 4,
 "nbformat_minor": 5
}
