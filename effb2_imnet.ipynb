{
 "cells": [
  {
   "cell_type": "code",
   "execution_count": 1,
   "id": "e38c50e8-d1e2-4d0e-8edd-5f13e7d85419",
   "metadata": {},
   "outputs": [
    {
     "name": "stderr",
     "output_type": "stream",
     "text": [
      "2023-01-12 20:16:13.408822: I tensorflow/core/platform/cpu_feature_guard.cc:193] This TensorFlow binary is optimized with oneAPI Deep Neural Network Library (oneDNN) to use the following CPU instructions in performance-critical operations:  SSE4.1 SSE4.2 AVX AVX2 FMA\n",
      "To enable them in other operations, rebuild TensorFlow with the appropriate compiler flags.\n"
     ]
    }
   ],
   "source": [
    "import numpy as np\n",
    "import pandas as pd\n",
    "import math\n",
    "\n",
    "import tensorflow as tf\n",
    "from tensorflow import keras\n",
    "from tensorflow.keras.preprocessing.image import ImageDataGenerator\n",
    "from tensorflow.keras.applications import EfficientNetB2 #260x260\n",
    "import tensorflow.keras.layers as layers\n",
    "from tensorflow.keras.applications.efficientnet import preprocess_input\n",
    "from tensorflow.keras.utils import Sequence\n",
    "import imgaug.augmenters as iaa\n",
    "import imgaug\n",
    "\n",
    "from sklearn.model_selection import train_test_split"
   ]
  },
  {
   "cell_type": "code",
   "execution_count": 2,
   "id": "53908793-5d6b-4366-b573-62815bee971b",
   "metadata": {},
   "outputs": [],
   "source": [
    "data_dir = '/run/user/1000/gvfs/smb-share:server=titan.local,share=datasets/kitchenware-classification'\n",
    "seed = 42"
   ]
  },
  {
   "cell_type": "code",
   "execution_count": 3,
   "id": "575cfe6a-8031-4fb9-af38-2743aa2e63c5",
   "metadata": {},
   "outputs": [
    {
     "data": {
      "text/html": [
       "<div>\n",
       "<style scoped>\n",
       "    .dataframe tbody tr th:only-of-type {\n",
       "        vertical-align: middle;\n",
       "    }\n",
       "\n",
       "    .dataframe tbody tr th {\n",
       "        vertical-align: top;\n",
       "    }\n",
       "\n",
       "    .dataframe thead th {\n",
       "        text-align: right;\n",
       "    }\n",
       "</style>\n",
       "<table border=\"1\" class=\"dataframe\">\n",
       "  <thead>\n",
       "    <tr style=\"text-align: right;\">\n",
       "      <th></th>\n",
       "      <th>Id</th>\n",
       "      <th>label</th>\n",
       "      <th>filename</th>\n",
       "    </tr>\n",
       "  </thead>\n",
       "  <tbody>\n",
       "    <tr>\n",
       "      <th>0</th>\n",
       "      <td>0560</td>\n",
       "      <td>glass</td>\n",
       "      <td>/run/user/1000/gvfs/smb-share:server=titan.loc...</td>\n",
       "    </tr>\n",
       "    <tr>\n",
       "      <th>1</th>\n",
       "      <td>4675</td>\n",
       "      <td>cup</td>\n",
       "      <td>/run/user/1000/gvfs/smb-share:server=titan.loc...</td>\n",
       "    </tr>\n",
       "    <tr>\n",
       "      <th>2</th>\n",
       "      <td>0875</td>\n",
       "      <td>glass</td>\n",
       "      <td>/run/user/1000/gvfs/smb-share:server=titan.loc...</td>\n",
       "    </tr>\n",
       "    <tr>\n",
       "      <th>3</th>\n",
       "      <td>4436</td>\n",
       "      <td>spoon</td>\n",
       "      <td>/run/user/1000/gvfs/smb-share:server=titan.loc...</td>\n",
       "    </tr>\n",
       "    <tr>\n",
       "      <th>4</th>\n",
       "      <td>8265</td>\n",
       "      <td>plate</td>\n",
       "      <td>/run/user/1000/gvfs/smb-share:server=titan.loc...</td>\n",
       "    </tr>\n",
       "  </tbody>\n",
       "</table>\n",
       "</div>"
      ],
      "text/plain": [
       "     Id  label                                           filename\n",
       "0  0560  glass  /run/user/1000/gvfs/smb-share:server=titan.loc...\n",
       "1  4675    cup  /run/user/1000/gvfs/smb-share:server=titan.loc...\n",
       "2  0875  glass  /run/user/1000/gvfs/smb-share:server=titan.loc...\n",
       "3  4436  spoon  /run/user/1000/gvfs/smb-share:server=titan.loc...\n",
       "4  8265  plate  /run/user/1000/gvfs/smb-share:server=titan.loc..."
      ]
     },
     "execution_count": 3,
     "metadata": {},
     "output_type": "execute_result"
    }
   ],
   "source": [
    "df_train_full = pd.read_csv(data_dir+'/train.csv', dtype={'Id': str})\n",
    "df_extra = pd.read_csv(data_dir+'/data.csv', dtype={'Id': str})\n",
    "df_train_full = pd.concat([df_train_full, df_extra], ignore_index = True)\n",
    "df_train_full['filename'] = data_dir+'/images/' + df_train_full['Id'] + '.jpg'\n",
    "df_train_full.head()"
   ]
  },
  {
   "cell_type": "code",
   "execution_count": 4,
   "id": "634b5a1c-33d9-4f18-8599-545d85952315",
   "metadata": {},
   "outputs": [],
   "source": [
    "image_width = 260\n",
    "image_height = 260\n",
    "NUM_CLASSES = 6\n",
    "batch_size = 32\n",
    "n_epochs = 10"
   ]
  },
  {
   "cell_type": "code",
   "execution_count": 5,
   "id": "0e92ad67-f64d-45d7-85c5-05774008162b",
   "metadata": {},
   "outputs": [
    {
     "data": {
      "text/html": [
       "<div>\n",
       "<style scoped>\n",
       "    .dataframe tbody tr th:only-of-type {\n",
       "        vertical-align: middle;\n",
       "    }\n",
       "\n",
       "    .dataframe tbody tr th {\n",
       "        vertical-align: top;\n",
       "    }\n",
       "\n",
       "    .dataframe thead th {\n",
       "        text-align: right;\n",
       "    }\n",
       "</style>\n",
       "<table border=\"1\" class=\"dataframe\">\n",
       "  <thead>\n",
       "    <tr style=\"text-align: right;\">\n",
       "      <th></th>\n",
       "      <th>Id</th>\n",
       "      <th>label</th>\n",
       "      <th>filename</th>\n",
       "    </tr>\n",
       "  </thead>\n",
       "  <tbody>\n",
       "    <tr>\n",
       "      <th>7592</th>\n",
       "      <td>eu.95a129ef-d94a-4ab0-a4e4-e66aac61e55f</td>\n",
       "      <td>fork</td>\n",
       "      <td>/run/user/1000/gvfs/smb-share:server=titan.loc...</td>\n",
       "    </tr>\n",
       "    <tr>\n",
       "      <th>7704</th>\n",
       "      <td>eu.b90f170d-c2d2-47bf-bd61-375f9032e98f</td>\n",
       "      <td>cup</td>\n",
       "      <td>/run/user/1000/gvfs/smb-share:server=titan.loc...</td>\n",
       "    </tr>\n",
       "    <tr>\n",
       "      <th>7840</th>\n",
       "      <td>eu.84a95cb4-6026-40ed-bfb6-936d297a7d91</td>\n",
       "      <td>cup</td>\n",
       "      <td>/run/user/1000/gvfs/smb-share:server=titan.loc...</td>\n",
       "    </tr>\n",
       "    <tr>\n",
       "      <th>5030</th>\n",
       "      <td>5485</td>\n",
       "      <td>fork</td>\n",
       "      <td>/run/user/1000/gvfs/smb-share:server=titan.loc...</td>\n",
       "    </tr>\n",
       "    <tr>\n",
       "      <th>7114</th>\n",
       "      <td>eu.edfa5512-6f5d-4cf7-bbcc-a31eace9b484</td>\n",
       "      <td>spoon</td>\n",
       "      <td>/run/user/1000/gvfs/smb-share:server=titan.loc...</td>\n",
       "    </tr>\n",
       "    <tr>\n",
       "      <th>...</th>\n",
       "      <td>...</td>\n",
       "      <td>...</td>\n",
       "      <td>...</td>\n",
       "    </tr>\n",
       "    <tr>\n",
       "      <th>5033</th>\n",
       "      <td>5725</td>\n",
       "      <td>plate</td>\n",
       "      <td>/run/user/1000/gvfs/smb-share:server=titan.loc...</td>\n",
       "    </tr>\n",
       "    <tr>\n",
       "      <th>4172</th>\n",
       "      <td>5120</td>\n",
       "      <td>plate</td>\n",
       "      <td>/run/user/1000/gvfs/smb-share:server=titan.loc...</td>\n",
       "    </tr>\n",
       "    <tr>\n",
       "      <th>4507</th>\n",
       "      <td>9013</td>\n",
       "      <td>cup</td>\n",
       "      <td>/run/user/1000/gvfs/smb-share:server=titan.loc...</td>\n",
       "    </tr>\n",
       "    <tr>\n",
       "      <th>3625</th>\n",
       "      <td>2070</td>\n",
       "      <td>cup</td>\n",
       "      <td>/run/user/1000/gvfs/smb-share:server=titan.loc...</td>\n",
       "    </tr>\n",
       "    <tr>\n",
       "      <th>17</th>\n",
       "      <td>2220</td>\n",
       "      <td>plate</td>\n",
       "      <td>/run/user/1000/gvfs/smb-share:server=titan.loc...</td>\n",
       "    </tr>\n",
       "  </tbody>\n",
       "</table>\n",
       "<p>6390 rows × 3 columns</p>\n",
       "</div>"
      ],
      "text/plain": [
       "                                           Id  label  \\\n",
       "7592  eu.95a129ef-d94a-4ab0-a4e4-e66aac61e55f   fork   \n",
       "7704  eu.b90f170d-c2d2-47bf-bd61-375f9032e98f    cup   \n",
       "7840  eu.84a95cb4-6026-40ed-bfb6-936d297a7d91    cup   \n",
       "5030                                     5485   fork   \n",
       "7114  eu.edfa5512-6f5d-4cf7-bbcc-a31eace9b484  spoon   \n",
       "...                                       ...    ...   \n",
       "5033                                     5725  plate   \n",
       "4172                                     5120  plate   \n",
       "4507                                     9013    cup   \n",
       "3625                                     2070    cup   \n",
       "17                                       2220  plate   \n",
       "\n",
       "                                               filename  \n",
       "7592  /run/user/1000/gvfs/smb-share:server=titan.loc...  \n",
       "7704  /run/user/1000/gvfs/smb-share:server=titan.loc...  \n",
       "7840  /run/user/1000/gvfs/smb-share:server=titan.loc...  \n",
       "5030  /run/user/1000/gvfs/smb-share:server=titan.loc...  \n",
       "7114  /run/user/1000/gvfs/smb-share:server=titan.loc...  \n",
       "...                                                 ...  \n",
       "5033  /run/user/1000/gvfs/smb-share:server=titan.loc...  \n",
       "4172  /run/user/1000/gvfs/smb-share:server=titan.loc...  \n",
       "4507  /run/user/1000/gvfs/smb-share:server=titan.loc...  \n",
       "3625  /run/user/1000/gvfs/smb-share:server=titan.loc...  \n",
       "17    /run/user/1000/gvfs/smb-share:server=titan.loc...  \n",
       "\n",
       "[6390 rows x 3 columns]"
      ]
     },
     "execution_count": 5,
     "metadata": {},
     "output_type": "execute_result"
    }
   ],
   "source": [
    "df_train, df_val, y_train, y_val = train_test_split(df_train_full, df_train_full['label'], test_size = 0.2, shuffle = True, stratify = df_train_full['label'], random_state = seed)\n",
    "df_train"
   ]
  },
  {
   "cell_type": "code",
   "execution_count": 6,
   "id": "952d9c35-0b5e-428b-81ff-837f669798d7",
   "metadata": {},
   "outputs": [],
   "source": [
    "train_aug = iaa.Sequential(\n",
    "    [\n",
    "        iaa.Resize({\"height\": image_height, \"width\": image_width}, interpolation=imgaug.ALL),\n",
    "        iaa.Fliplr(0.3),\n",
    "        iaa.Flipud(0.2), # vertically flip 20% of all images\n",
    "        # Make some images brighter and some darker.\n",
    "        # In 20% of all cases, we sample the multiplier once per channel,\n",
    "        # which can end up changing the color of the images.\n",
    "        iaa.Sometimes(0.3,iaa.Multiply((0.8, 1.2), per_channel=0.2)),\n",
    "        # `Sometimes()` applies a function randomly to the inputs with\n",
    "        # a given probability (0.3, in this case).\n",
    "        iaa.Sometimes(0.3, iaa.Cutout()),\n",
    "        iaa.Sometimes(0.1, iaa.GaussianBlur(sigma=(0, 0.5))),\n",
    "        iaa.Sometimes(0.1, iaa.Cartoon(blur_ksize=3, segmentation_size=1.0, saturation=2.0, edge_prevalence=1.0))\n",
    "    ],\n",
    "    name = \"train_aug\"\n",
    ")"
   ]
  },
  {
   "cell_type": "code",
   "execution_count": 7,
   "id": "08864b46-e226-43bc-9573-b82238f4ef97",
   "metadata": {},
   "outputs": [],
   "source": [
    "class KitchenwareSequence(Sequence):\n",
    "    \"\"\"\n",
    "    def __init__(self, x_in, y_in, aug=None, batch_size, shuffle=True):\n",
    "        # Initialization\n",
    "        self.batch_size = batch_size\n",
    "        self.shuffle = shuffle\n",
    "        self.x = x_in\n",
    "        self.y = y_in\n",
    "        self.aug = aug\n",
    "        self.datalen = len(y_in)\n",
    "        self.indexes = np.arange(self.datalen)\n",
    "        if self.shuffle:\n",
    "            np.random.shuffle(self.indexes)\n",
    "    \"\"\"\n",
    "    def __init__(self, x_set, y_set, batch_size):\n",
    "        self.x, self.y = x_set, y_set\n",
    "        self.batch_size = batch_size\n",
    "\n",
    "\n",
    "    def __getitem__(self, idx):\n",
    "        batch_x = self.x[idx * self.batch_size:(idx + 1) * self.batch_size]\n",
    "        batch_y = self.y[idx * self.batch_size:(idx + 1) * self.batch_size]\n",
    "        print(np.array(batch_x))\n",
    "        return np.array(batch_x), np.array(batch_y)\n",
    "    \n",
    "    def __len__(self):\n",
    "        # Denotes the number of batches per epoch\n",
    "        return math.ceil(len(self.x) / self.batch_size)\n",
    "\n",
    "    \"\"\"\n",
    "    def on_epoch_end(self):\n",
    "        # Updates indexes after each epoch\n",
    "        self.indexes = np.arange(self.datalen)\n",
    "        if self.shuffle:\n",
    "            np.random.shuffle(self.indexes)\n",
    "    \"\"\""
   ]
  },
  {
   "cell_type": "code",
   "execution_count": 8,
   "id": "8aac366a-7bf3-4a49-8f0e-34950b5df4fe",
   "metadata": {},
   "outputs": [
    {
     "data": {
      "text/plain": [
       "\"\\nmodel = EfficientNetB2(\\n    weights='imagenet',\\n    include_top=False,\\n    input_shape=(image_width, image_height, 3)\\n)\\nmodel.trainable = False\\n\\ninputs = keras.Input(shape=(image_width, image_height, 3))\\n\\nbase = model(inputs, training=False)\\nvectors = keras.layers.GlobalAveragePooling2D()(base)\\noutputs = keras.layers.Dense(6)(vectors)\\n\\nmodel = keras.Model(inputs, outputs)\\n\\nlearning_rate = 0.01\\noptimizer = keras.optimizers.Adam(learning_rate=learning_rate)\\n\\nloss = keras.losses.CategoricalCrossentropy(from_logits=True)\\n\\nmodel.compile(optimizer=optimizer, loss=loss, metrics=['accuracy'])\\n\""
      ]
     },
     "execution_count": 8,
     "metadata": {},
     "output_type": "execute_result"
    }
   ],
   "source": [
    "\"\"\"\n",
    "model = EfficientNetB2(\n",
    "    weights='imagenet',\n",
    "    include_top=False,\n",
    "    input_shape=(image_width, image_height, 3)\n",
    ")\n",
    "model.trainable = False\n",
    "\n",
    "inputs = keras.Input(shape=(image_width, image_height, 3))\n",
    "\n",
    "base = model(inputs, training=False)\n",
    "vectors = keras.layers.GlobalAveragePooling2D()(base)\n",
    "outputs = keras.layers.Dense(6)(vectors)\n",
    "\n",
    "model = keras.Model(inputs, outputs)\n",
    "\n",
    "learning_rate = 0.01\n",
    "optimizer = keras.optimizers.Adam(learning_rate=learning_rate)\n",
    "\n",
    "loss = keras.losses.CategoricalCrossentropy(from_logits=True)\n",
    "\n",
    "model.compile(optimizer=optimizer, loss=loss, metrics=['accuracy'])\n",
    "\"\"\""
   ]
  },
  {
   "cell_type": "code",
   "execution_count": 9,
   "id": "6ae02590-d85c-4d1d-a907-96ac409c633e",
   "metadata": {},
   "outputs": [],
   "source": [
    "def build_model(num_classes):\n",
    "    \n",
    "    inputs = layers.Input(shape = (image_width, image_height, 3))\n",
    "    #x = train_aug(inputs)\n",
    "    x=inputs\n",
    "    #outputs = EfficientNetB2(include_top=False, weights='imagenet', classes=NUM_CLASSES)(x)\n",
    "    #model = tf.keras.Model(inputs, outputs)\n",
    "    model = EfficientNetB2(include_top=False, input_tensor=x, weights=\"imagenet\")\n",
    "    # Freeze the pretrained weights\n",
    "    model.trainable = False\n",
    "\n",
    "    # Rebuild top\n",
    "    x = layers.GlobalAveragePooling2D(name=\"avg_pool\")(model.output)\n",
    "    x = layers.BatchNormalization()(x)\n",
    "\n",
    "    top_dropout_rate = 0.2\n",
    "    x = layers.Dropout(top_dropout_rate, name=\"top_dropout\")(x)\n",
    "    outputs = layers.Dense(NUM_CLASSES, activation=\"softmax\", name=\"pred\")(x)\n",
    "\n",
    "    # Compile\n",
    "    model = tf.keras.Model(inputs, outputs, name=\"EfficientNet\")\n",
    "    optimizer = tf.keras.optimizers.Adam(learning_rate=1e-2)\n",
    "    model.compile(\n",
    "        optimizer=optimizer, loss=\"categorical_crossentropy\", metrics=[\"accuracy\"]\n",
    "    )\n",
    "    \n",
    "    return model"
   ]
  },
  {
   "cell_type": "code",
   "execution_count": 10,
   "id": "a5dfd838-6641-4156-993b-6739570fabc9",
   "metadata": {},
   "outputs": [],
   "source": [
    "#train = KitchenwareSequence(df_train, df_train['label'], batch_size=batch_size)\n",
    "#val = KitchenwareSequence(df_val, df_val['label'], batch_size=batch_size)"
   ]
  },
  {
   "cell_type": "code",
   "execution_count": 11,
   "id": "51029c2a-b5f9-4880-bdc0-fd1160f42ce0",
   "metadata": {},
   "outputs": [],
   "source": [
    "#ds_train = ds_train.map(lambda image, label: (tf.image.resize(image, size), label))\n",
    "#ds_test = ds_test.map(lambda image, label: (tf.image.resize(image, size), label))"
   ]
  },
  {
   "cell_type": "code",
   "execution_count": 12,
   "id": "323b3002-c3b4-4033-8123-cff41496f34f",
   "metadata": {},
   "outputs": [
    {
     "name": "stdout",
     "output_type": "stream",
     "text": [
      "Found 6390 validated image filenames belonging to 6 classes.\n",
      "Found 1598 validated image filenames belonging to 6 classes.\n"
     ]
    }
   ],
   "source": [
    "train_datagen = ImageDataGenerator(preprocessing_function=preprocess_input)\n",
    "\n",
    "train_generator = train_datagen.flow_from_dataframe(\n",
    "    df_train,\n",
    "    x_col='filename',\n",
    "    y_col='label',\n",
    "    target_size=(image_width, image_height),\n",
    "    batch_size=32,\n",
    ")\n",
    "\n",
    "val_datagen = ImageDataGenerator(preprocessing_function=preprocess_input)\n",
    "\n",
    "val_generator = val_datagen.flow_from_dataframe(\n",
    "    df_val,\n",
    "    x_col='filename',\n",
    "    y_col='label',\n",
    "    target_size=(image_width, image_height),\n",
    "    batch_size=32,\n",
    ")"
   ]
  },
  {
   "cell_type": "code",
   "execution_count": 14,
   "id": "c294d8f7-30c2-42b0-a2cf-7492cde4008a",
   "metadata": {},
   "outputs": [
    {
     "name": "stdout",
     "output_type": "stream",
     "text": [
      "Epoch 1/2\n",
      "200/200 [==============================] - 128s 620ms/step - loss: 0.5729 - accuracy: 0.9124 - val_loss: 0.3368 - val_accuracy: 0.9318\n",
      "Epoch 2/2\n",
      "200/200 [==============================] - 124s 623ms/step - loss: 0.4940 - accuracy: 0.9360 - val_loss: 0.5121 - val_accuracy: 0.9393\n"
     ]
    }
   ],
   "source": [
    "model = build_model(num_classes=NUM_CLASSES)\n",
    "\n",
    "#epochs = 25  # @param {type: \"slider\", min:8, max:80}\n",
    "#hist = model.fit(train, epochs=n_epochs, validation_data=val, verbose=2)\n",
    "history = model.fit(\n",
    "    train_generator,\n",
    "    epochs=2,\n",
    "    validation_data=val_generator\n",
    ")\n",
    "#plot_hist(history)\n"
   ]
  },
  {
   "cell_type": "code",
   "execution_count": 16,
   "id": "27cab20a-5d3d-43e3-875d-2700853c691c",
   "metadata": {},
   "outputs": [
    {
     "data": {
      "text/html": [
       "<div>\n",
       "<style scoped>\n",
       "    .dataframe tbody tr th:only-of-type {\n",
       "        vertical-align: middle;\n",
       "    }\n",
       "\n",
       "    .dataframe tbody tr th {\n",
       "        vertical-align: top;\n",
       "    }\n",
       "\n",
       "    .dataframe thead th {\n",
       "        text-align: right;\n",
       "    }\n",
       "</style>\n",
       "<table border=\"1\" class=\"dataframe\">\n",
       "  <thead>\n",
       "    <tr style=\"text-align: right;\">\n",
       "      <th></th>\n",
       "      <th>Id</th>\n",
       "      <th>filename</th>\n",
       "    </tr>\n",
       "  </thead>\n",
       "  <tbody>\n",
       "    <tr>\n",
       "      <th>0</th>\n",
       "      <td>0678</td>\n",
       "      <td>/run/user/1000/gvfs/smb-share:server=titan.loc...</td>\n",
       "    </tr>\n",
       "    <tr>\n",
       "      <th>1</th>\n",
       "      <td>3962</td>\n",
       "      <td>/run/user/1000/gvfs/smb-share:server=titan.loc...</td>\n",
       "    </tr>\n",
       "    <tr>\n",
       "      <th>2</th>\n",
       "      <td>9271</td>\n",
       "      <td>/run/user/1000/gvfs/smb-share:server=titan.loc...</td>\n",
       "    </tr>\n",
       "    <tr>\n",
       "      <th>3</th>\n",
       "      <td>5133</td>\n",
       "      <td>/run/user/1000/gvfs/smb-share:server=titan.loc...</td>\n",
       "    </tr>\n",
       "    <tr>\n",
       "      <th>4</th>\n",
       "      <td>8842</td>\n",
       "      <td>/run/user/1000/gvfs/smb-share:server=titan.loc...</td>\n",
       "    </tr>\n",
       "  </tbody>\n",
       "</table>\n",
       "</div>"
      ],
      "text/plain": [
       "     Id                                           filename\n",
       "0  0678  /run/user/1000/gvfs/smb-share:server=titan.loc...\n",
       "1  3962  /run/user/1000/gvfs/smb-share:server=titan.loc...\n",
       "2  9271  /run/user/1000/gvfs/smb-share:server=titan.loc...\n",
       "3  5133  /run/user/1000/gvfs/smb-share:server=titan.loc...\n",
       "4  8842  /run/user/1000/gvfs/smb-share:server=titan.loc..."
      ]
     },
     "execution_count": 16,
     "metadata": {},
     "output_type": "execute_result"
    }
   ],
   "source": [
    "df_test = pd.read_csv(data_dir+'/test.csv', dtype={'Id': str})\n",
    "df_test['filename'] = data_dir+'/images/' + df_test['Id'] + '.jpg'\n",
    "df_test.head()"
   ]
  },
  {
   "cell_type": "code",
   "execution_count": 17,
   "id": "d3cb42dd-e273-4d01-a323-9e9cb4d27824",
   "metadata": {},
   "outputs": [
    {
     "name": "stdout",
     "output_type": "stream",
     "text": [
      "Found 3808 validated image filenames.\n"
     ]
    }
   ],
   "source": [
    "test_datagen = ImageDataGenerator(preprocessing_function=preprocess_input)\n",
    "test_generator = test_datagen.flow_from_dataframe(\n",
    "    df_test,\n",
    "    x_col='filename',\n",
    "    class_mode='input',\n",
    "    target_size=(image_width, image_height),\n",
    "    batch_size=32,\n",
    "    shuffle=False\n",
    ")"
   ]
  },
  {
   "cell_type": "code",
   "execution_count": 18,
   "id": "a4a1dd6d-1f80-414f-9908-9f92e2a38db3",
   "metadata": {},
   "outputs": [
    {
     "name": "stdout",
     "output_type": "stream",
     "text": [
      "119/119 [==============================] - 119s 994ms/step\n"
     ]
    }
   ],
   "source": [
    "y_pred = model.predict(test_generator)"
   ]
  },
  {
   "cell_type": "code",
   "execution_count": 20,
   "id": "27321e9f-66f6-4e61-bde8-770e9220e552",
   "metadata": {},
   "outputs": [
    {
     "data": {
      "text/plain": [
       "array(['cup', 'fork', 'glass', 'knife', 'plate', 'spoon'], dtype='<U5')"
      ]
     },
     "execution_count": 20,
     "metadata": {},
     "output_type": "execute_result"
    }
   ],
   "source": [
    "classes = np.array(list(train_generator.class_indices.keys()))\n",
    "classes"
   ]
  },
  {
   "cell_type": "code",
   "execution_count": 21,
   "id": "09f1da95-cc6b-418c-bd5c-a8e239acc5a3",
   "metadata": {},
   "outputs": [],
   "source": [
    "predictions = classes[y_pred.argmax(axis=1)]"
   ]
  },
  {
   "cell_type": "code",
   "execution_count": 22,
   "id": "6f623ef2-2fab-4a05-bba1-402535630bc3",
   "metadata": {},
   "outputs": [],
   "source": [
    "df_submission = pd.DataFrame()\n",
    "df_submission['filename'] = test_generator.filenames\n",
    "df_submission['label'] = predictions\n",
    "\n",
    "df_submission['Id'] = df_submission.filename.str[len(data_dir+'/images/'):-4]\n",
    "del df_submission['filename']"
   ]
  },
  {
   "cell_type": "code",
   "execution_count": 23,
   "id": "fd372b12-60c6-4ff1-8af0-24963fa02daa",
   "metadata": {},
   "outputs": [],
   "source": [
    "df_submission[['Id', 'label']].to_csv('submissions/effb2_imnet.csv', index=False)"
   ]
  },
  {
   "cell_type": "code",
   "execution_count": 25,
   "id": "e56a2b76-875c-486d-8b11-66766c994b66",
   "metadata": {},
   "outputs": [
    {
     "name": "stdout",
     "output_type": "stream",
     "text": [
      "100%|██████████████████████████████████████| 38.6k/38.6k [00:01<00:00, 22.5kB/s]\n",
      "Successfully submitted to Kitchenware Classification"
     ]
    }
   ],
   "source": [
    "!kaggle competitions submit kitchenware-classification -f submissions/effb2_imnet.csv -m 'validation: 0.9393'"
   ]
  },
  {
   "cell_type": "code",
   "execution_count": null,
   "id": "b736711a-2bc0-43c3-baa2-f4c1fd3aab74",
   "metadata": {},
   "outputs": [],
   "source": []
  }
 ],
 "metadata": {
  "kernelspec": {
   "display_name": "Python 3 (ipykernel)",
   "language": "python",
   "name": "python3"
  },
  "language_info": {
   "codemirror_mode": {
    "name": "ipython",
    "version": 3
   },
   "file_extension": ".py",
   "mimetype": "text/x-python",
   "name": "python",
   "nbconvert_exporter": "python",
   "pygments_lexer": "ipython3",
   "version": "3.10.6"
  }
 },
 "nbformat": 4,
 "nbformat_minor": 5
}
