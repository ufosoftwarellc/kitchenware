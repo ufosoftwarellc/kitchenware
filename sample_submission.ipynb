{
 "cells": [
  {
   "cell_type": "markdown",
   "id": "594e0054-bc83-4509-8bca-9547c703eac5",
   "metadata": {},
   "source": [
    "# Sample Submission\n",
    "Based on the sample code provided by [DataTalks.Club](https://github.com/DataTalksClub/kitchenware-competition-starter/blob/main/keras-starter.ipynb) to use as a starter notebook and make an initial submission"
   ]
  },
  {
   "cell_type": "code",
   "execution_count": 1,
   "id": "e2c40405-f7b7-4d52-9f21-1bb0365ac069",
   "metadata": {},
   "outputs": [
    {
     "name": "stderr",
     "output_type": "stream",
     "text": [
      "2023-01-11 09:55:12.252996: I tensorflow/core/platform/cpu_feature_guard.cc:193] This TensorFlow binary is optimized with oneAPI Deep Neural Network Library (oneDNN) to use the following CPU instructions in performance-critical operations:  SSE4.1 SSE4.2 AVX AVX2 FMA\n",
      "To enable them in other operations, rebuild TensorFlow with the appropriate compiler flags.\n"
     ]
    }
   ],
   "source": [
    "import numpy as np\n",
    "import pandas as pd\n",
    "import tensorflow as tf\n",
    "\n",
    "from tensorflow import keras"
   ]
  },
  {
   "cell_type": "code",
   "execution_count": 2,
   "id": "00c7208e-6199-4167-a8fe-dce35050bcf2",
   "metadata": {},
   "outputs": [],
   "source": [
    "data_dir = '/run/user/1000/gvfs/smb-share:server=titan.local,share=datasets/kitchenware-classification'"
   ]
  },
  {
   "cell_type": "code",
   "execution_count": 3,
   "id": "cdbdc785-5642-4b50-8b4f-5af295f5919d",
   "metadata": {},
   "outputs": [
    {
     "data": {
      "text/html": [
       "<div>\n",
       "<style scoped>\n",
       "    .dataframe tbody tr th:only-of-type {\n",
       "        vertical-align: middle;\n",
       "    }\n",
       "\n",
       "    .dataframe tbody tr th {\n",
       "        vertical-align: top;\n",
       "    }\n",
       "\n",
       "    .dataframe thead th {\n",
       "        text-align: right;\n",
       "    }\n",
       "</style>\n",
       "<table border=\"1\" class=\"dataframe\">\n",
       "  <thead>\n",
       "    <tr style=\"text-align: right;\">\n",
       "      <th></th>\n",
       "      <th>Id</th>\n",
       "      <th>label</th>\n",
       "      <th>filename</th>\n",
       "    </tr>\n",
       "  </thead>\n",
       "  <tbody>\n",
       "    <tr>\n",
       "      <th>0</th>\n",
       "      <td>0560</td>\n",
       "      <td>glass</td>\n",
       "      <td>/run/user/1000/gvfs/smb-share:server=titan.loc...</td>\n",
       "    </tr>\n",
       "    <tr>\n",
       "      <th>1</th>\n",
       "      <td>4675</td>\n",
       "      <td>cup</td>\n",
       "      <td>/run/user/1000/gvfs/smb-share:server=titan.loc...</td>\n",
       "    </tr>\n",
       "    <tr>\n",
       "      <th>2</th>\n",
       "      <td>0875</td>\n",
       "      <td>glass</td>\n",
       "      <td>/run/user/1000/gvfs/smb-share:server=titan.loc...</td>\n",
       "    </tr>\n",
       "    <tr>\n",
       "      <th>3</th>\n",
       "      <td>4436</td>\n",
       "      <td>spoon</td>\n",
       "      <td>/run/user/1000/gvfs/smb-share:server=titan.loc...</td>\n",
       "    </tr>\n",
       "    <tr>\n",
       "      <th>4</th>\n",
       "      <td>8265</td>\n",
       "      <td>plate</td>\n",
       "      <td>/run/user/1000/gvfs/smb-share:server=titan.loc...</td>\n",
       "    </tr>\n",
       "  </tbody>\n",
       "</table>\n",
       "</div>"
      ],
      "text/plain": [
       "     Id  label                                           filename\n",
       "0  0560  glass  /run/user/1000/gvfs/smb-share:server=titan.loc...\n",
       "1  4675    cup  /run/user/1000/gvfs/smb-share:server=titan.loc...\n",
       "2  0875  glass  /run/user/1000/gvfs/smb-share:server=titan.loc...\n",
       "3  4436  spoon  /run/user/1000/gvfs/smb-share:server=titan.loc...\n",
       "4  8265  plate  /run/user/1000/gvfs/smb-share:server=titan.loc..."
      ]
     },
     "execution_count": 3,
     "metadata": {},
     "output_type": "execute_result"
    }
   ],
   "source": [
    "df_train_full = pd.read_csv(data_dir+'/train.csv', dtype={'Id': str})\n",
    "df_train_full['filename'] = data_dir+'/images/' + df_train_full['Id'] + '.jpg'\n",
    "df_train_full.head()"
   ]
  },
  {
   "cell_type": "code",
   "execution_count": 4,
   "id": "1ff7336e-70cf-40bc-b4f7-a5615712d71a",
   "metadata": {},
   "outputs": [],
   "source": [
    "val_cutoff = int(len(df_train_full) * 0.8)\n",
    "df_train = df_train_full[:val_cutoff]\n",
    "df_val = df_train_full[val_cutoff:]"
   ]
  },
  {
   "cell_type": "code",
   "execution_count": 5,
   "id": "8c871be8-f975-484f-b231-02dfa5734ad6",
   "metadata": {},
   "outputs": [],
   "source": [
    "from tensorflow.keras.applications.xception import Xception\n",
    "from tensorflow.keras.applications.xception import preprocess_input\n",
    "\n",
    "from tensorflow.keras.preprocessing.image import ImageDataGenerator"
   ]
  },
  {
   "cell_type": "code",
   "execution_count": 6,
   "id": "a55f7605-fe93-491e-b626-ae3c28d06f34",
   "metadata": {},
   "outputs": [
    {
     "name": "stdout",
     "output_type": "stream",
     "text": [
      "Found 4447 validated image filenames belonging to 6 classes.\n",
      "Found 1112 validated image filenames belonging to 6 classes.\n"
     ]
    }
   ],
   "source": [
    "train_datagen = ImageDataGenerator(preprocessing_function=preprocess_input)\n",
    "\n",
    "train_generator = train_datagen.flow_from_dataframe(\n",
    "    df_train,\n",
    "    x_col='filename',\n",
    "    y_col='label',\n",
    "    target_size=(150, 150),\n",
    "    batch_size=32,\n",
    ")\n",
    "\n",
    "val_datagen = ImageDataGenerator(preprocessing_function=preprocess_input)\n",
    "\n",
    "val_generator = val_datagen.flow_from_dataframe(\n",
    "    df_val,\n",
    "    x_col='filename',\n",
    "    y_col='label',\n",
    "    target_size=(150, 150),\n",
    "    batch_size=32,\n",
    ")"
   ]
  },
  {
   "cell_type": "code",
   "execution_count": 7,
   "id": "d7bd02b1-51d2-46d3-998b-1fa7874fdbd7",
   "metadata": {},
   "outputs": [
    {
     "name": "stderr",
     "output_type": "stream",
     "text": [
      "2023-01-11 09:59:40.583938: I tensorflow/stream_executor/cuda/cuda_gpu_executor.cc:980] successful NUMA node read from SysFS had negative value (-1), but there must be at least one NUMA node, so returning NUMA node zero\n",
      "2023-01-11 09:59:40.687097: I tensorflow/stream_executor/cuda/cuda_gpu_executor.cc:980] successful NUMA node read from SysFS had negative value (-1), but there must be at least one NUMA node, so returning NUMA node zero\n",
      "2023-01-11 09:59:40.687285: I tensorflow/stream_executor/cuda/cuda_gpu_executor.cc:980] successful NUMA node read from SysFS had negative value (-1), but there must be at least one NUMA node, so returning NUMA node zero\n",
      "2023-01-11 09:59:40.688353: I tensorflow/core/platform/cpu_feature_guard.cc:193] This TensorFlow binary is optimized with oneAPI Deep Neural Network Library (oneDNN) to use the following CPU instructions in performance-critical operations:  SSE4.1 SSE4.2 AVX AVX2 FMA\n",
      "To enable them in other operations, rebuild TensorFlow with the appropriate compiler flags.\n",
      "2023-01-11 09:59:40.688982: I tensorflow/stream_executor/cuda/cuda_gpu_executor.cc:980] successful NUMA node read from SysFS had negative value (-1), but there must be at least one NUMA node, so returning NUMA node zero\n",
      "2023-01-11 09:59:40.689118: I tensorflow/stream_executor/cuda/cuda_gpu_executor.cc:980] successful NUMA node read from SysFS had negative value (-1), but there must be at least one NUMA node, so returning NUMA node zero\n",
      "2023-01-11 09:59:40.689238: I tensorflow/stream_executor/cuda/cuda_gpu_executor.cc:980] successful NUMA node read from SysFS had negative value (-1), but there must be at least one NUMA node, so returning NUMA node zero\n",
      "2023-01-11 09:59:41.658204: I tensorflow/stream_executor/cuda/cuda_gpu_executor.cc:980] successful NUMA node read from SysFS had negative value (-1), but there must be at least one NUMA node, so returning NUMA node zero\n",
      "2023-01-11 09:59:41.658379: I tensorflow/stream_executor/cuda/cuda_gpu_executor.cc:980] successful NUMA node read from SysFS had negative value (-1), but there must be at least one NUMA node, so returning NUMA node zero\n",
      "2023-01-11 09:59:41.658506: I tensorflow/stream_executor/cuda/cuda_gpu_executor.cc:980] successful NUMA node read from SysFS had negative value (-1), but there must be at least one NUMA node, so returning NUMA node zero\n",
      "2023-01-11 09:59:41.658620: I tensorflow/core/common_runtime/gpu/gpu_device.cc:1616] Created device /job:localhost/replica:0/task:0/device:GPU:0 with 21653 MB memory:  -> device: 0, name: NVIDIA GeForce RTX 3090, pci bus id: 0000:31:00.0, compute capability: 8.6\n"
     ]
    },
    {
     "name": "stdout",
     "output_type": "stream",
     "text": [
      "Downloading data from https://storage.googleapis.com/tensorflow/keras-applications/xception/xception_weights_tf_dim_ordering_tf_kernels_notop.h5\n",
      "83683744/83683744 [==============================] - 2s 0us/step\n"
     ]
    }
   ],
   "source": [
    "base_model = Xception(\n",
    "    weights='imagenet',\n",
    "    include_top=False,\n",
    "    input_shape=(150, 150, 3)\n",
    ")\n",
    "base_model.trainable = False\n",
    "\n",
    "inputs = keras.Input(shape=(150, 150, 3))\n",
    "\n",
    "base = base_model(inputs, training=False)\n",
    "vectors = keras.layers.GlobalAveragePooling2D()(base)\n",
    "outputs = keras.layers.Dense(6)(vectors)\n",
    "\n",
    "model = keras.Model(inputs, outputs)"
   ]
  },
  {
   "cell_type": "code",
   "execution_count": 8,
   "id": "8fe091ac-9dc8-4f9e-b953-e8d06b9b314b",
   "metadata": {},
   "outputs": [],
   "source": [
    "learning_rate = 0.01\n",
    "optimizer = keras.optimizers.Adam(learning_rate=learning_rate)\n",
    "\n",
    "loss = keras.losses.CategoricalCrossentropy(from_logits=True)\n",
    "\n",
    "model.compile(optimizer=optimizer, loss=loss, metrics=['accuracy'])"
   ]
  },
  {
   "cell_type": "code",
   "execution_count": 9,
   "id": "47a2106d-1528-4a1f-8955-90fe1f699e26",
   "metadata": {},
   "outputs": [
    {
     "name": "stdout",
     "output_type": "stream",
     "text": [
      "Epoch 1/2\n"
     ]
    },
    {
     "name": "stderr",
     "output_type": "stream",
     "text": [
      "2023-01-11 10:00:11.758542: I tensorflow/stream_executor/cuda/cuda_dnn.cc:384] Loaded cuDNN version 8401\n",
      "2023-01-11 10:00:13.427021: I tensorflow/core/platform/default/subprocess.cc:304] Start cannot spawn child process: No such file or directory\n",
      "2023-01-11 10:00:13.427364: I tensorflow/core/platform/default/subprocess.cc:304] Start cannot spawn child process: No such file or directory\n",
      "2023-01-11 10:00:13.427374: W tensorflow/stream_executor/gpu/asm_compiler.cc:80] Couldn't get ptxas version string: INTERNAL: Couldn't invoke ptxas --version\n",
      "2023-01-11 10:00:13.428162: I tensorflow/core/platform/default/subprocess.cc:304] Start cannot spawn child process: No such file or directory\n",
      "2023-01-11 10:00:13.428198: W tensorflow/stream_executor/gpu/redzone_allocator.cc:314] INTERNAL: Failed to launch ptxas\n",
      "Relying on driver to perform ptx compilation. \n",
      "Modify $PATH to customize ptxas location.\n",
      "This message will be only logged once.\n",
      "2023-01-11 10:00:13.620625: I tensorflow/stream_executor/cuda/cuda_blas.cc:1614] TensorFloat-32 will be used for the matrix multiplication. This will only be logged once.\n"
     ]
    },
    {
     "name": "stdout",
     "output_type": "stream",
     "text": [
      "139/139 [==============================] - 103s 712ms/step - loss: 0.7074 - accuracy: 0.8361 - val_loss: 0.6339 - val_accuracy: 0.8543\n",
      "Epoch 2/2\n",
      "139/139 [==============================] - 88s 634ms/step - loss: 0.3961 - accuracy: 0.8948 - val_loss: 0.8307 - val_accuracy: 0.8399\n"
     ]
    }
   ],
   "source": [
    "history = model.fit(\n",
    "    train_generator,\n",
    "    epochs=2,\n",
    "    validation_data=val_generator\n",
    ")"
   ]
  },
  {
   "cell_type": "code",
   "execution_count": 11,
   "id": "44ea63e0-3e24-47b3-a4ce-e0db744c3385",
   "metadata": {},
   "outputs": [
    {
     "data": {
      "text/html": [
       "<div>\n",
       "<style scoped>\n",
       "    .dataframe tbody tr th:only-of-type {\n",
       "        vertical-align: middle;\n",
       "    }\n",
       "\n",
       "    .dataframe tbody tr th {\n",
       "        vertical-align: top;\n",
       "    }\n",
       "\n",
       "    .dataframe thead th {\n",
       "        text-align: right;\n",
       "    }\n",
       "</style>\n",
       "<table border=\"1\" class=\"dataframe\">\n",
       "  <thead>\n",
       "    <tr style=\"text-align: right;\">\n",
       "      <th></th>\n",
       "      <th>Id</th>\n",
       "      <th>filename</th>\n",
       "    </tr>\n",
       "  </thead>\n",
       "  <tbody>\n",
       "    <tr>\n",
       "      <th>0</th>\n",
       "      <td>0678</td>\n",
       "      <td>/run/user/1000/gvfs/smb-share:server=titan.loc...</td>\n",
       "    </tr>\n",
       "    <tr>\n",
       "      <th>1</th>\n",
       "      <td>3962</td>\n",
       "      <td>/run/user/1000/gvfs/smb-share:server=titan.loc...</td>\n",
       "    </tr>\n",
       "    <tr>\n",
       "      <th>2</th>\n",
       "      <td>9271</td>\n",
       "      <td>/run/user/1000/gvfs/smb-share:server=titan.loc...</td>\n",
       "    </tr>\n",
       "    <tr>\n",
       "      <th>3</th>\n",
       "      <td>5133</td>\n",
       "      <td>/run/user/1000/gvfs/smb-share:server=titan.loc...</td>\n",
       "    </tr>\n",
       "    <tr>\n",
       "      <th>4</th>\n",
       "      <td>8842</td>\n",
       "      <td>/run/user/1000/gvfs/smb-share:server=titan.loc...</td>\n",
       "    </tr>\n",
       "  </tbody>\n",
       "</table>\n",
       "</div>"
      ],
      "text/plain": [
       "     Id                                           filename\n",
       "0  0678  /run/user/1000/gvfs/smb-share:server=titan.loc...\n",
       "1  3962  /run/user/1000/gvfs/smb-share:server=titan.loc...\n",
       "2  9271  /run/user/1000/gvfs/smb-share:server=titan.loc...\n",
       "3  5133  /run/user/1000/gvfs/smb-share:server=titan.loc...\n",
       "4  8842  /run/user/1000/gvfs/smb-share:server=titan.loc..."
      ]
     },
     "execution_count": 11,
     "metadata": {},
     "output_type": "execute_result"
    }
   ],
   "source": [
    "df_test = pd.read_csv(data_dir+'/test.csv', dtype={'Id': str})\n",
    "df_test['filename'] = data_dir+'/images/' + df_test['Id'] + '.jpg'\n",
    "df_test.head()"
   ]
  },
  {
   "cell_type": "code",
   "execution_count": 12,
   "id": "d6bc4bdd-dcb0-49df-88fe-a08e7d7a20da",
   "metadata": {},
   "outputs": [
    {
     "name": "stdout",
     "output_type": "stream",
     "text": [
      "Found 3808 validated image filenames.\n"
     ]
    }
   ],
   "source": [
    "test_datagen = ImageDataGenerator(preprocessing_function=preprocess_input)\n",
    "\n",
    "test_generator = test_datagen.flow_from_dataframe(\n",
    "    df_test,\n",
    "    x_col='filename',\n",
    "    class_mode='input',\n",
    "    target_size=(150, 150),\n",
    "    batch_size=32,\n",
    "    shuffle=False\n",
    ")"
   ]
  },
  {
   "cell_type": "code",
   "execution_count": 13,
   "id": "14c8515a-846c-4f25-83c1-33a96e09e5f8",
   "metadata": {},
   "outputs": [
    {
     "name": "stdout",
     "output_type": "stream",
     "text": [
      "119/119 [==============================] - 60s 498ms/step\n"
     ]
    }
   ],
   "source": [
    "y_pred = model.predict(test_generator)"
   ]
  },
  {
   "cell_type": "code",
   "execution_count": 14,
   "id": "aa834cfa-77eb-46e1-9b95-20814b29b4f6",
   "metadata": {},
   "outputs": [
    {
     "data": {
      "text/plain": [
       "array(['cup', 'fork', 'glass', 'knife', 'plate', 'spoon'], dtype='<U5')"
      ]
     },
     "execution_count": 14,
     "metadata": {},
     "output_type": "execute_result"
    }
   ],
   "source": [
    "classes = np.array(list(train_generator.class_indices.keys()))\n",
    "classes"
   ]
  },
  {
   "cell_type": "code",
   "execution_count": 15,
   "id": "e1ef0846-649e-4a9a-a376-04e14fd024d0",
   "metadata": {},
   "outputs": [],
   "source": [
    "predictions = classes[y_pred.argmax(axis=1)]"
   ]
  },
  {
   "cell_type": "code",
   "execution_count": 16,
   "id": "7914dfd5-ff38-414d-a8f9-1f60598285c0",
   "metadata": {},
   "outputs": [],
   "source": [
    "df_submission = pd.DataFrame()\n",
    "df_submission['filename'] = test_generator.filenames\n",
    "df_submission['label'] = predictions\n",
    "\n",
    "df_submission['Id'] = df_submission.filename.str[len(data_dir+'/images/'):-4]\n",
    "del df_submission['filename']"
   ]
  },
  {
   "cell_type": "code",
   "execution_count": 17,
   "id": "31549c57-97e6-4075-a04e-2f1de9f6c676",
   "metadata": {},
   "outputs": [],
   "source": [
    "df_submission[['Id', 'label']].to_csv('submissions/sample_submission.csv', index=False)"
   ]
  },
  {
   "cell_type": "code",
   "execution_count": 18,
   "id": "c5f1f920-a038-485c-aba4-79a5ed525090",
   "metadata": {},
   "outputs": [
    {
     "name": "stdout",
     "output_type": "stream",
     "text": [
      "100%|██████████████████████████████████████| 38.7k/38.7k [00:01<00:00, 21.2kB/s]\n",
      "Successfully submitted to Kitchenware Classification"
     ]
    }
   ],
   "source": [
    "!kaggle competitions submit kitchenware-classification -f submission.csv -m 'validation: 0.8399'"
   ]
  },
  {
   "cell_type": "code",
   "execution_count": null,
   "id": "d5c24705-4e6e-44a5-b496-994b61bf5541",
   "metadata": {},
   "outputs": [],
   "source": []
  }
 ],
 "metadata": {
  "kernelspec": {
   "display_name": "Python 3 (ipykernel)",
   "language": "python",
   "name": "python3"
  },
  "language_info": {
   "codemirror_mode": {
    "name": "ipython",
    "version": 3
   },
   "file_extension": ".py",
   "mimetype": "text/x-python",
   "name": "python",
   "nbconvert_exporter": "python",
   "pygments_lexer": "ipython3",
   "version": "3.10.6"
  }
 },
 "nbformat": 4,
 "nbformat_minor": 5
}
