{
 "cells": [
  {
   "cell_type": "code",
   "execution_count": 13,
   "id": "e38c50e8-d1e2-4d0e-8edd-5f13e7d85419",
   "metadata": {},
   "outputs": [],
   "source": [
    "import numpy as np\n",
    "import pandas as pd\n",
    "import math\n",
    "import matplotlib.pyplot as plt\n",
    "\n",
    "import tensorflow as tf\n",
    "from tensorflow import keras\n",
    "from tensorflow.keras.preprocessing.image import ImageDataGenerator\n",
    "from tensorflow.keras.applications import EfficientNetB2 #260x260\n",
    "import tensorflow.keras.layers as layers\n",
    "from tensorflow.keras.applications.efficientnet import preprocess_input\n",
    "from tensorflow.keras.utils import Sequence\n",
    "import imgaug.augmenters as iaa\n",
    "import imgaug\n",
    "\n",
    "from sklearn.model_selection import train_test_split"
   ]
  },
  {
   "cell_type": "code",
   "execution_count": 2,
   "id": "53908793-5d6b-4366-b573-62815bee971b",
   "metadata": {},
   "outputs": [],
   "source": [
    "pd.set_option('display.max_colwidth', None)\n",
    "data_dir = '/run/user/1000/gvfs/smb-share:server=titan.local,share=datasets/kitchenware-classification'\n",
    "seed = 42"
   ]
  },
  {
   "cell_type": "code",
   "execution_count": 3,
   "id": "575cfe6a-8031-4fb9-af38-2743aa2e63c5",
   "metadata": {},
   "outputs": [
    {
     "data": {
      "text/html": [
       "<div>\n",
       "<style scoped>\n",
       "    .dataframe tbody tr th:only-of-type {\n",
       "        vertical-align: middle;\n",
       "    }\n",
       "\n",
       "    .dataframe tbody tr th {\n",
       "        vertical-align: top;\n",
       "    }\n",
       "\n",
       "    .dataframe thead th {\n",
       "        text-align: right;\n",
       "    }\n",
       "</style>\n",
       "<table border=\"1\" class=\"dataframe\">\n",
       "  <thead>\n",
       "    <tr style=\"text-align: right;\">\n",
       "      <th></th>\n",
       "      <th>Id</th>\n",
       "      <th>label</th>\n",
       "      <th>filename</th>\n",
       "    </tr>\n",
       "  </thead>\n",
       "  <tbody>\n",
       "    <tr>\n",
       "      <th>0</th>\n",
       "      <td>2539</td>\n",
       "      <td>cup</td>\n",
       "      <td>/run/user/1000/gvfs/smb-share:server=titan.local,share=datasets/kitchenware-classification/images/2539.jpg</td>\n",
       "    </tr>\n",
       "    <tr>\n",
       "      <th>1</th>\n",
       "      <td>eu.da4bd8ee-62cb-46fd-9422-96087866c6f4</td>\n",
       "      <td>spoon</td>\n",
       "      <td>/run/user/1000/gvfs/smb-share:server=titan.local,share=datasets/kitchenware-classification/images/eu.da4bd8ee-62cb-46fd-9422-96087866c6f4.jpg</td>\n",
       "    </tr>\n",
       "    <tr>\n",
       "      <th>2</th>\n",
       "      <td>4883</td>\n",
       "      <td>spoon</td>\n",
       "      <td>/run/user/1000/gvfs/smb-share:server=titan.local,share=datasets/kitchenware-classification/images/4883.jpg</td>\n",
       "    </tr>\n",
       "    <tr>\n",
       "      <th>3</th>\n",
       "      <td>1208</td>\n",
       "      <td>glass</td>\n",
       "      <td>/run/user/1000/gvfs/smb-share:server=titan.local,share=datasets/kitchenware-classification/images/1208.jpg</td>\n",
       "    </tr>\n",
       "    <tr>\n",
       "      <th>4</th>\n",
       "      <td>eu.8d35c3fa-7f92-4c95-a1a4-93c5cc310d74</td>\n",
       "      <td>spoon</td>\n",
       "      <td>/run/user/1000/gvfs/smb-share:server=titan.local,share=datasets/kitchenware-classification/images/eu.8d35c3fa-7f92-4c95-a1a4-93c5cc310d74.jpg</td>\n",
       "    </tr>\n",
       "  </tbody>\n",
       "</table>\n",
       "</div>"
      ],
      "text/plain": [
       "                                        Id  label  \\\n",
       "0                                     2539    cup   \n",
       "1  eu.da4bd8ee-62cb-46fd-9422-96087866c6f4  spoon   \n",
       "2                                     4883  spoon   \n",
       "3                                     1208  glass   \n",
       "4  eu.8d35c3fa-7f92-4c95-a1a4-93c5cc310d74  spoon   \n",
       "\n",
       "                                                                                                                                        filename  \n",
       "0                                     /run/user/1000/gvfs/smb-share:server=titan.local,share=datasets/kitchenware-classification/images/2539.jpg  \n",
       "1  /run/user/1000/gvfs/smb-share:server=titan.local,share=datasets/kitchenware-classification/images/eu.da4bd8ee-62cb-46fd-9422-96087866c6f4.jpg  \n",
       "2                                     /run/user/1000/gvfs/smb-share:server=titan.local,share=datasets/kitchenware-classification/images/4883.jpg  \n",
       "3                                     /run/user/1000/gvfs/smb-share:server=titan.local,share=datasets/kitchenware-classification/images/1208.jpg  \n",
       "4  /run/user/1000/gvfs/smb-share:server=titan.local,share=datasets/kitchenware-classification/images/eu.8d35c3fa-7f92-4c95-a1a4-93c5cc310d74.jpg  "
      ]
     },
     "execution_count": 3,
     "metadata": {},
     "output_type": "execute_result"
    }
   ],
   "source": [
    "df_train_full = pd.read_csv(data_dir+'/train.csv', dtype={'Id': str})\n",
    "df_extra = pd.read_csv(data_dir+'/data.csv', dtype={'Id': str})\n",
    "df_forks = pd.read_csv(data_dir+'/forks_aug.csv', dtype={'Id': str})\n",
    "df_train_full = pd.concat([df_train_full, df_extra, df_forks], ignore_index = True)\n",
    "df_train_full['filename'] = data_dir+'/images/' + df_train_full['Id'] + '.jpg'\n",
    "df_train_full = df_train_full.sample(frac = 1, random_state = seed)\n",
    "df_train_full.reset_index(drop = True, inplace = True)\n",
    "df_train_full.head()"
   ]
  },
  {
   "cell_type": "code",
   "execution_count": 5,
   "id": "52a854f4-d099-487d-be2e-3c6f846d6a86",
   "metadata": {},
   "outputs": [
    {
     "data": {
      "text/html": [
       "<div>\n",
       "<style scoped>\n",
       "    .dataframe tbody tr th:only-of-type {\n",
       "        vertical-align: middle;\n",
       "    }\n",
       "\n",
       "    .dataframe tbody tr th {\n",
       "        vertical-align: top;\n",
       "    }\n",
       "\n",
       "    .dataframe thead th {\n",
       "        text-align: right;\n",
       "    }\n",
       "</style>\n",
       "<table border=\"1\" class=\"dataframe\">\n",
       "  <thead>\n",
       "    <tr style=\"text-align: right;\">\n",
       "      <th></th>\n",
       "      <th>Id</th>\n",
       "      <th>label</th>\n",
       "    </tr>\n",
       "  </thead>\n",
       "  <tbody>\n",
       "    <tr>\n",
       "      <th>0</th>\n",
       "      <td>eu.becd9fa5-82e5-4c26-8d69-350b356a002c</td>\n",
       "      <td>plate</td>\n",
       "    </tr>\n",
       "    <tr>\n",
       "      <th>1</th>\n",
       "      <td>eu.6cd4aa11-c74c-4407-bbf7-022e248aa379</td>\n",
       "      <td>cup</td>\n",
       "    </tr>\n",
       "    <tr>\n",
       "      <th>2</th>\n",
       "      <td>eu.cf9125f6-d065-41f2-a23d-d46a22e33603</td>\n",
       "      <td>glass</td>\n",
       "    </tr>\n",
       "    <tr>\n",
       "      <th>3</th>\n",
       "      <td>eu.a24d7ef2-0432-4c70-bbd8-4075c067884c</td>\n",
       "      <td>spoon</td>\n",
       "    </tr>\n",
       "    <tr>\n",
       "      <th>4</th>\n",
       "      <td>eu.9708136f-b4d2-49b1-9858-836a1da92dcd</td>\n",
       "      <td>spoon</td>\n",
       "    </tr>\n",
       "    <tr>\n",
       "      <th>...</th>\n",
       "      <td>...</td>\n",
       "      <td>...</td>\n",
       "    </tr>\n",
       "    <tr>\n",
       "      <th>2424</th>\n",
       "      <td>eu.635ea7e6-33c8-4001-9ac9-6afabfb86456</td>\n",
       "      <td>plate</td>\n",
       "    </tr>\n",
       "    <tr>\n",
       "      <th>2425</th>\n",
       "      <td>eu.ab04d6b1-3524-4da7-9578-efd0750f6a7b</td>\n",
       "      <td>knife</td>\n",
       "    </tr>\n",
       "    <tr>\n",
       "      <th>2426</th>\n",
       "      <td>eu.50858fcc-27f4-41ce-9a9c-900a385102f1</td>\n",
       "      <td>glass</td>\n",
       "    </tr>\n",
       "    <tr>\n",
       "      <th>2427</th>\n",
       "      <td>eu.f241d0c1-ad58-4165-baa4-17d645adfe81</td>\n",
       "      <td>glass</td>\n",
       "    </tr>\n",
       "    <tr>\n",
       "      <th>2428</th>\n",
       "      <td>eu.ed7bf6ec-024e-41a4-8e69-d92c7e53334e</td>\n",
       "      <td>cup</td>\n",
       "    </tr>\n",
       "  </tbody>\n",
       "</table>\n",
       "<p>2429 rows × 2 columns</p>\n",
       "</div>"
      ],
      "text/plain": [
       "                                           Id  label\n",
       "0     eu.becd9fa5-82e5-4c26-8d69-350b356a002c  plate\n",
       "1     eu.6cd4aa11-c74c-4407-bbf7-022e248aa379    cup\n",
       "2     eu.cf9125f6-d065-41f2-a23d-d46a22e33603  glass\n",
       "3     eu.a24d7ef2-0432-4c70-bbd8-4075c067884c  spoon\n",
       "4     eu.9708136f-b4d2-49b1-9858-836a1da92dcd  spoon\n",
       "...                                       ...    ...\n",
       "2424  eu.635ea7e6-33c8-4001-9ac9-6afabfb86456  plate\n",
       "2425  eu.ab04d6b1-3524-4da7-9578-efd0750f6a7b  knife\n",
       "2426  eu.50858fcc-27f4-41ce-9a9c-900a385102f1  glass\n",
       "2427  eu.f241d0c1-ad58-4165-baa4-17d645adfe81  glass\n",
       "2428  eu.ed7bf6ec-024e-41a4-8e69-d92c7e53334e    cup\n",
       "\n",
       "[2429 rows x 2 columns]"
      ]
     },
     "execution_count": 5,
     "metadata": {},
     "output_type": "execute_result"
    }
   ],
   "source": [
    "df_extra"
   ]
  },
  {
   "cell_type": "code",
   "execution_count": 6,
   "id": "c3be9d77-834c-4bfd-9e98-ab4194996639",
   "metadata": {},
   "outputs": [
    {
     "data": {
      "text/html": [
       "<div>\n",
       "<style scoped>\n",
       "    .dataframe tbody tr th:only-of-type {\n",
       "        vertical-align: middle;\n",
       "    }\n",
       "\n",
       "    .dataframe tbody tr th {\n",
       "        vertical-align: top;\n",
       "    }\n",
       "\n",
       "    .dataframe thead th {\n",
       "        text-align: right;\n",
       "    }\n",
       "</style>\n",
       "<table border=\"1\" class=\"dataframe\">\n",
       "  <thead>\n",
       "    <tr style=\"text-align: right;\">\n",
       "      <th></th>\n",
       "      <th>Id</th>\n",
       "      <th>label</th>\n",
       "    </tr>\n",
       "  </thead>\n",
       "  <tbody>\n",
       "    <tr>\n",
       "      <th>0</th>\n",
       "      <td>fork_aug_0</td>\n",
       "      <td>fork</td>\n",
       "    </tr>\n",
       "    <tr>\n",
       "      <th>1</th>\n",
       "      <td>fork_aug_1</td>\n",
       "      <td>fork</td>\n",
       "    </tr>\n",
       "    <tr>\n",
       "      <th>2</th>\n",
       "      <td>fork_aug_2</td>\n",
       "      <td>fork</td>\n",
       "    </tr>\n",
       "    <tr>\n",
       "      <th>3</th>\n",
       "      <td>fork_aug_3</td>\n",
       "      <td>fork</td>\n",
       "    </tr>\n",
       "    <tr>\n",
       "      <th>4</th>\n",
       "      <td>fork_aug_4</td>\n",
       "      <td>fork</td>\n",
       "    </tr>\n",
       "    <tr>\n",
       "      <th>...</th>\n",
       "      <td>...</td>\n",
       "      <td>...</td>\n",
       "    </tr>\n",
       "    <tr>\n",
       "      <th>771</th>\n",
       "      <td>fork_aug_771</td>\n",
       "      <td>fork</td>\n",
       "    </tr>\n",
       "    <tr>\n",
       "      <th>772</th>\n",
       "      <td>fork_aug_772</td>\n",
       "      <td>fork</td>\n",
       "    </tr>\n",
       "    <tr>\n",
       "      <th>773</th>\n",
       "      <td>fork_aug_773</td>\n",
       "      <td>fork</td>\n",
       "    </tr>\n",
       "    <tr>\n",
       "      <th>774</th>\n",
       "      <td>fork_aug_774</td>\n",
       "      <td>fork</td>\n",
       "    </tr>\n",
       "    <tr>\n",
       "      <th>775</th>\n",
       "      <td>fork_aug_775</td>\n",
       "      <td>fork</td>\n",
       "    </tr>\n",
       "  </tbody>\n",
       "</table>\n",
       "<p>776 rows × 2 columns</p>\n",
       "</div>"
      ],
      "text/plain": [
       "               Id label\n",
       "0      fork_aug_0  fork\n",
       "1      fork_aug_1  fork\n",
       "2      fork_aug_2  fork\n",
       "3      fork_aug_3  fork\n",
       "4      fork_aug_4  fork\n",
       "..            ...   ...\n",
       "771  fork_aug_771  fork\n",
       "772  fork_aug_772  fork\n",
       "773  fork_aug_773  fork\n",
       "774  fork_aug_774  fork\n",
       "775  fork_aug_775  fork\n",
       "\n",
       "[776 rows x 2 columns]"
      ]
     },
     "execution_count": 6,
     "metadata": {},
     "output_type": "execute_result"
    }
   ],
   "source": [
    "df_forks"
   ]
  },
  {
   "cell_type": "code",
   "execution_count": 7,
   "id": "634b5a1c-33d9-4f18-8599-545d85952315",
   "metadata": {},
   "outputs": [],
   "source": [
    "image_width = 260\n",
    "image_height = 260\n",
    "NUM_CLASSES = 6\n",
    "batch_size = 32\n",
    "n_epochs = 12\n",
    "learning_rate=1e-4"
   ]
  },
  {
   "cell_type": "code",
   "execution_count": 8,
   "id": "0e92ad67-f64d-45d7-85c5-05774008162b",
   "metadata": {},
   "outputs": [
    {
     "data": {
      "text/html": [
       "<div>\n",
       "<style scoped>\n",
       "    .dataframe tbody tr th:only-of-type {\n",
       "        vertical-align: middle;\n",
       "    }\n",
       "\n",
       "    .dataframe tbody tr th {\n",
       "        vertical-align: top;\n",
       "    }\n",
       "\n",
       "    .dataframe thead th {\n",
       "        text-align: right;\n",
       "    }\n",
       "</style>\n",
       "<table border=\"1\" class=\"dataframe\">\n",
       "  <thead>\n",
       "    <tr style=\"text-align: right;\">\n",
       "      <th></th>\n",
       "      <th>Id</th>\n",
       "      <th>label</th>\n",
       "      <th>filename</th>\n",
       "    </tr>\n",
       "  </thead>\n",
       "  <tbody>\n",
       "    <tr>\n",
       "      <th>1790</th>\n",
       "      <td>6562</td>\n",
       "      <td>knife</td>\n",
       "      <td>/run/user/1000/gvfs/smb-share:server=titan.local,share=datasets/kitchenware-classification/images/6562.jpg</td>\n",
       "    </tr>\n",
       "    <tr>\n",
       "      <th>4915</th>\n",
       "      <td>3616</td>\n",
       "      <td>cup</td>\n",
       "      <td>/run/user/1000/gvfs/smb-share:server=titan.local,share=datasets/kitchenware-classification/images/3616.jpg</td>\n",
       "    </tr>\n",
       "    <tr>\n",
       "      <th>1227</th>\n",
       "      <td>eu.a20efbfb-459e-4f68-9095-ca76cc6fbeda</td>\n",
       "      <td>plate</td>\n",
       "      <td>/run/user/1000/gvfs/smb-share:server=titan.local,share=datasets/kitchenware-classification/images/eu.a20efbfb-459e-4f68-9095-ca76cc6fbeda.jpg</td>\n",
       "    </tr>\n",
       "    <tr>\n",
       "      <th>1626</th>\n",
       "      <td>eu.5b0d6385-6b9c-4606-ac6b-61861855407d</td>\n",
       "      <td>spoon</td>\n",
       "      <td>/run/user/1000/gvfs/smb-share:server=titan.local,share=datasets/kitchenware-classification/images/eu.5b0d6385-6b9c-4606-ac6b-61861855407d.jpg</td>\n",
       "    </tr>\n",
       "    <tr>\n",
       "      <th>4212</th>\n",
       "      <td>eu.c094b1db-d902-44b3-abaf-8c72eb707188</td>\n",
       "      <td>knife</td>\n",
       "      <td>/run/user/1000/gvfs/smb-share:server=titan.local,share=datasets/kitchenware-classification/images/eu.c094b1db-d902-44b3-abaf-8c72eb707188.jpg</td>\n",
       "    </tr>\n",
       "    <tr>\n",
       "      <th>...</th>\n",
       "      <td>...</td>\n",
       "      <td>...</td>\n",
       "      <td>...</td>\n",
       "    </tr>\n",
       "    <tr>\n",
       "      <th>5060</th>\n",
       "      <td>1395</td>\n",
       "      <td>cup</td>\n",
       "      <td>/run/user/1000/gvfs/smb-share:server=titan.local,share=datasets/kitchenware-classification/images/1395.jpg</td>\n",
       "    </tr>\n",
       "    <tr>\n",
       "      <th>6196</th>\n",
       "      <td>eu.6d42119e-6d19-4d0e-91a9-3a610b5441a7</td>\n",
       "      <td>cup</td>\n",
       "      <td>/run/user/1000/gvfs/smb-share:server=titan.local,share=datasets/kitchenware-classification/images/eu.6d42119e-6d19-4d0e-91a9-3a610b5441a7.jpg</td>\n",
       "    </tr>\n",
       "    <tr>\n",
       "      <th>3757</th>\n",
       "      <td>eu.b3c21f3b-971f-48a3-9528-55fd850e11ff</td>\n",
       "      <td>cup</td>\n",
       "      <td>/run/user/1000/gvfs/smb-share:server=titan.local,share=datasets/kitchenware-classification/images/eu.b3c21f3b-971f-48a3-9528-55fd850e11ff.jpg</td>\n",
       "    </tr>\n",
       "    <tr>\n",
       "      <th>7787</th>\n",
       "      <td>6627</td>\n",
       "      <td>glass</td>\n",
       "      <td>/run/user/1000/gvfs/smb-share:server=titan.local,share=datasets/kitchenware-classification/images/6627.jpg</td>\n",
       "    </tr>\n",
       "    <tr>\n",
       "      <th>8381</th>\n",
       "      <td>0577</td>\n",
       "      <td>knife</td>\n",
       "      <td>/run/user/1000/gvfs/smb-share:server=titan.local,share=datasets/kitchenware-classification/images/0577.jpg</td>\n",
       "    </tr>\n",
       "  </tbody>\n",
       "</table>\n",
       "<p>7011 rows × 3 columns</p>\n",
       "</div>"
      ],
      "text/plain": [
       "                                           Id  label  \\\n",
       "1790                                     6562  knife   \n",
       "4915                                     3616    cup   \n",
       "1227  eu.a20efbfb-459e-4f68-9095-ca76cc6fbeda  plate   \n",
       "1626  eu.5b0d6385-6b9c-4606-ac6b-61861855407d  spoon   \n",
       "4212  eu.c094b1db-d902-44b3-abaf-8c72eb707188  knife   \n",
       "...                                       ...    ...   \n",
       "5060                                     1395    cup   \n",
       "6196  eu.6d42119e-6d19-4d0e-91a9-3a610b5441a7    cup   \n",
       "3757  eu.b3c21f3b-971f-48a3-9528-55fd850e11ff    cup   \n",
       "7787                                     6627  glass   \n",
       "8381                                     0577  knife   \n",
       "\n",
       "                                                                                                                                           filename  \n",
       "1790                                     /run/user/1000/gvfs/smb-share:server=titan.local,share=datasets/kitchenware-classification/images/6562.jpg  \n",
       "4915                                     /run/user/1000/gvfs/smb-share:server=titan.local,share=datasets/kitchenware-classification/images/3616.jpg  \n",
       "1227  /run/user/1000/gvfs/smb-share:server=titan.local,share=datasets/kitchenware-classification/images/eu.a20efbfb-459e-4f68-9095-ca76cc6fbeda.jpg  \n",
       "1626  /run/user/1000/gvfs/smb-share:server=titan.local,share=datasets/kitchenware-classification/images/eu.5b0d6385-6b9c-4606-ac6b-61861855407d.jpg  \n",
       "4212  /run/user/1000/gvfs/smb-share:server=titan.local,share=datasets/kitchenware-classification/images/eu.c094b1db-d902-44b3-abaf-8c72eb707188.jpg  \n",
       "...                                                                                                                                             ...  \n",
       "5060                                     /run/user/1000/gvfs/smb-share:server=titan.local,share=datasets/kitchenware-classification/images/1395.jpg  \n",
       "6196  /run/user/1000/gvfs/smb-share:server=titan.local,share=datasets/kitchenware-classification/images/eu.6d42119e-6d19-4d0e-91a9-3a610b5441a7.jpg  \n",
       "3757  /run/user/1000/gvfs/smb-share:server=titan.local,share=datasets/kitchenware-classification/images/eu.b3c21f3b-971f-48a3-9528-55fd850e11ff.jpg  \n",
       "7787                                     /run/user/1000/gvfs/smb-share:server=titan.local,share=datasets/kitchenware-classification/images/6627.jpg  \n",
       "8381                                     /run/user/1000/gvfs/smb-share:server=titan.local,share=datasets/kitchenware-classification/images/0577.jpg  \n",
       "\n",
       "[7011 rows x 3 columns]"
      ]
     },
     "execution_count": 8,
     "metadata": {},
     "output_type": "execute_result"
    }
   ],
   "source": [
    "df_train, df_val, y_train, y_val = train_test_split(df_train_full, df_train_full['label'], test_size = 0.2, shuffle = True, stratify = df_train_full['label'], random_state = seed)\n",
    "df_train"
   ]
  },
  {
   "cell_type": "code",
   "execution_count": 9,
   "id": "6ae02590-d85c-4d1d-a907-96ac409c633e",
   "metadata": {},
   "outputs": [],
   "source": [
    "def build_model(num_classes):\n",
    "    \n",
    "    inputs = layers.Input(shape = (image_width, image_height, 3))\n",
    "    x=inputs\n",
    "    model = EfficientNetB2(include_top=False, input_tensor=x, weights=\"imagenet\")\n",
    "    # Freeze the pretrained weights\n",
    "    model.trainable = False\n",
    "\n",
    "    # Rebuild top\n",
    "    x = layers.GlobalAveragePooling2D(name=\"avg_pool\")(model.output)\n",
    "    x = layers.BatchNormalization()(x)\n",
    "\n",
    "    top_dropout_rate = 0.2\n",
    "    x = layers.Dropout(top_dropout_rate, name=\"top_dropout\")(x)\n",
    "    outputs = layers.Dense(NUM_CLASSES, activation=\"softmax\", name=\"pred\")(x)\n",
    "\n",
    "    # Compile\n",
    "    model = tf.keras.Model(inputs, outputs, name=\"EfficientNet\")\n",
    "    optimizer = tf.keras.optimizers.Adam(learning_rate=learning_rate)\n",
    "    model.compile(\n",
    "        optimizer=optimizer, loss=\"categorical_crossentropy\", metrics=[\"accuracy\"]\n",
    "    )\n",
    "    \n",
    "    return model"
   ]
  },
  {
   "cell_type": "code",
   "execution_count": 10,
   "id": "323b3002-c3b4-4033-8123-cff41496f34f",
   "metadata": {},
   "outputs": [
    {
     "name": "stdout",
     "output_type": "stream",
     "text": [
      "Found 7011 validated image filenames belonging to 6 classes.\n",
      "Found 1753 validated image filenames belonging to 6 classes.\n"
     ]
    }
   ],
   "source": [
    "train_datagen = ImageDataGenerator(preprocessing_function=preprocess_input)\n",
    "\n",
    "train_generator = train_datagen.flow_from_dataframe(\n",
    "    df_train,\n",
    "    x_col='filename',\n",
    "    y_col='label',\n",
    "    target_size=(image_width, image_height),\n",
    "    batch_size=batch_size,\n",
    "    rescale=1/255.\n",
    ")\n",
    "\n",
    "val_datagen = ImageDataGenerator(preprocessing_function=preprocess_input)\n",
    "\n",
    "val_generator = val_datagen.flow_from_dataframe(\n",
    "    df_val,\n",
    "    x_col='filename',\n",
    "    y_col='label',\n",
    "    target_size=(image_width, image_height),\n",
    "    batch_size=batch_size,\n",
    "    rescale=1/255.,\n",
    ")"
   ]
  },
  {
   "cell_type": "code",
   "execution_count": 11,
   "id": "c294d8f7-30c2-42b0-a2cf-7492cde4008a",
   "metadata": {},
   "outputs": [
    {
     "name": "stderr",
     "output_type": "stream",
     "text": [
      "2023-01-20 19:22:56.153301: I tensorflow/stream_executor/cuda/cuda_gpu_executor.cc:980] successful NUMA node read from SysFS had negative value (-1), but there must be at least one NUMA node, so returning NUMA node zero\n",
      "2023-01-20 19:22:56.199868: I tensorflow/stream_executor/cuda/cuda_gpu_executor.cc:980] successful NUMA node read from SysFS had negative value (-1), but there must be at least one NUMA node, so returning NUMA node zero\n",
      "2023-01-20 19:22:56.200084: I tensorflow/stream_executor/cuda/cuda_gpu_executor.cc:980] successful NUMA node read from SysFS had negative value (-1), but there must be at least one NUMA node, so returning NUMA node zero\n",
      "2023-01-20 19:22:56.200502: I tensorflow/core/platform/cpu_feature_guard.cc:193] This TensorFlow binary is optimized with oneAPI Deep Neural Network Library (oneDNN) to use the following CPU instructions in performance-critical operations:  SSE4.1 SSE4.2 AVX AVX2 FMA\n",
      "To enable them in other operations, rebuild TensorFlow with the appropriate compiler flags.\n",
      "2023-01-20 19:22:56.201074: I tensorflow/stream_executor/cuda/cuda_gpu_executor.cc:980] successful NUMA node read from SysFS had negative value (-1), but there must be at least one NUMA node, so returning NUMA node zero\n",
      "2023-01-20 19:22:56.201230: I tensorflow/stream_executor/cuda/cuda_gpu_executor.cc:980] successful NUMA node read from SysFS had negative value (-1), but there must be at least one NUMA node, so returning NUMA node zero\n",
      "2023-01-20 19:22:56.201502: I tensorflow/stream_executor/cuda/cuda_gpu_executor.cc:980] successful NUMA node read from SysFS had negative value (-1), but there must be at least one NUMA node, so returning NUMA node zero\n",
      "2023-01-20 19:22:56.573484: I tensorflow/stream_executor/cuda/cuda_gpu_executor.cc:980] successful NUMA node read from SysFS had negative value (-1), but there must be at least one NUMA node, so returning NUMA node zero\n",
      "2023-01-20 19:22:56.573669: I tensorflow/stream_executor/cuda/cuda_gpu_executor.cc:980] successful NUMA node read from SysFS had negative value (-1), but there must be at least one NUMA node, so returning NUMA node zero\n",
      "2023-01-20 19:22:56.573808: I tensorflow/stream_executor/cuda/cuda_gpu_executor.cc:980] successful NUMA node read from SysFS had negative value (-1), but there must be at least one NUMA node, so returning NUMA node zero\n",
      "2023-01-20 19:22:56.573914: I tensorflow/core/common_runtime/gpu/gpu_device.cc:1616] Created device /job:localhost/replica:0/task:0/device:GPU:0 with 21693 MB memory:  -> device: 0, name: NVIDIA GeForce RTX 3090, pci bus id: 0000:31:00.0, compute capability: 8.6\n"
     ]
    },
    {
     "name": "stdout",
     "output_type": "stream",
     "text": [
      "Epoch 1/12\n"
     ]
    },
    {
     "name": "stderr",
     "output_type": "stream",
     "text": [
      "2023-01-20 19:23:03.502608: I tensorflow/stream_executor/cuda/cuda_dnn.cc:384] Loaded cuDNN version 8401\n"
     ]
    },
    {
     "name": "stdout",
     "output_type": "stream",
     "text": [
      "  1/220 [..............................] - ETA: 21:11 - loss: 2.6625 - accuracy: 0.1875"
     ]
    },
    {
     "name": "stderr",
     "output_type": "stream",
     "text": [
      "2023-01-20 19:23:04.361280: I tensorflow/core/platform/default/subprocess.cc:304] Start cannot spawn child process: No such file or directory\n",
      "2023-01-20 19:23:04.361926: I tensorflow/core/platform/default/subprocess.cc:304] Start cannot spawn child process: No such file or directory\n",
      "2023-01-20 19:23:04.361936: W tensorflow/stream_executor/gpu/asm_compiler.cc:80] Couldn't get ptxas version string: INTERNAL: Couldn't invoke ptxas --version\n",
      "2023-01-20 19:23:04.362578: I tensorflow/core/platform/default/subprocess.cc:304] Start cannot spawn child process: No such file or directory\n",
      "2023-01-20 19:23:04.362612: W tensorflow/stream_executor/gpu/redzone_allocator.cc:314] INTERNAL: Failed to launch ptxas\n",
      "Relying on driver to perform ptx compilation. \n",
      "Modify $PATH to customize ptxas location.\n",
      "This message will be only logged once.\n",
      "2023-01-20 19:23:04.389795: I tensorflow/stream_executor/cuda/cuda_blas.cc:1614] TensorFloat-32 will be used for the matrix multiplication. This will only be logged once.\n"
     ]
    },
    {
     "name": "stdout",
     "output_type": "stream",
     "text": [
      "220/220 [==============================] - 138s 601ms/step - loss: 1.1119 - accuracy: 0.6116 - val_loss: 0.5117 - val_accuracy: 0.8871\n",
      "Epoch 2/12\n",
      "220/220 [==============================] - 140s 636ms/step - loss: 0.3980 - accuracy: 0.8745 - val_loss: 0.2386 - val_accuracy: 0.9264\n",
      "Epoch 3/12\n",
      "220/220 [==============================] - 134s 610ms/step - loss: 0.2847 - accuracy: 0.9076 - val_loss: 0.1843 - val_accuracy: 0.9401\n",
      "Epoch 4/12\n",
      "220/220 [==============================] - 135s 615ms/step - loss: 0.2425 - accuracy: 0.9197 - val_loss: 0.1617 - val_accuracy: 0.9481\n",
      "Epoch 5/12\n",
      "220/220 [==============================] - 134s 608ms/step - loss: 0.2232 - accuracy: 0.9243 - val_loss: 0.1479 - val_accuracy: 0.9527\n",
      "Epoch 6/12\n",
      "220/220 [==============================] - 139s 632ms/step - loss: 0.1986 - accuracy: 0.9324 - val_loss: 0.1398 - val_accuracy: 0.9538\n",
      "Epoch 7/12\n",
      "220/220 [==============================] - 135s 615ms/step - loss: 0.1850 - accuracy: 0.9361 - val_loss: 0.1335 - val_accuracy: 0.9555\n",
      "Epoch 8/12\n",
      "220/220 [==============================] - 144s 655ms/step - loss: 0.1749 - accuracy: 0.9428 - val_loss: 0.1289 - val_accuracy: 0.9584\n",
      "Epoch 9/12\n",
      "220/220 [==============================] - 147s 668ms/step - loss: 0.1650 - accuracy: 0.9441 - val_loss: 0.1260 - val_accuracy: 0.9601\n",
      "Epoch 10/12\n",
      "220/220 [==============================] - 166s 754ms/step - loss: 0.1567 - accuracy: 0.9449 - val_loss: 0.1241 - val_accuracy: 0.9584\n",
      "Epoch 11/12\n",
      "220/220 [==============================] - 175s 796ms/step - loss: 0.1501 - accuracy: 0.9508 - val_loss: 0.1233 - val_accuracy: 0.9601\n",
      "Epoch 12/12\n",
      "220/220 [==============================] - 181s 826ms/step - loss: 0.1552 - accuracy: 0.9471 - val_loss: 0.1218 - val_accuracy: 0.9601\n"
     ]
    }
   ],
   "source": [
    "model = build_model(num_classes=NUM_CLASSES)\n",
    "\n",
    "history = model.fit(\n",
    "    train_generator,\n",
    "    epochs=n_epochs,\n",
    "    validation_data=val_generator\n",
    ")"
   ]
  },
  {
   "cell_type": "code",
   "execution_count": 14,
   "id": "4298f6b0-ec53-4a70-b701-7564d034360e",
   "metadata": {},
   "outputs": [
    {
     "data": {
      "image/png": "[encoded data removed]",
      "text/plain": [
       "<Figure size 640x480 with 1 Axes>"
      ]
     },
     "metadata": {},
     "output_type": "display_data"
    }
   ],
   "source": [
    "def plot_hist(hist):\n",
    "    plt.plot(hist.history[\"accuracy\"])\n",
    "    plt.plot(hist.history[\"val_accuracy\"])\n",
    "    plt.title(\"model accuracy\")\n",
    "    plt.ylabel(\"accuracy\")\n",
    "    plt.xlabel(\"epoch\")\n",
    "    plt.legend([\"train\", \"validation\"], loc=\"upper left\")\n",
    "    plt.show()\n",
    "    \n",
    "plot_hist(history)"
   ]
  },
  {
   "cell_type": "code",
   "execution_count": 15,
   "id": "27cab20a-5d3d-43e3-875d-2700853c691c",
   "metadata": {},
   "outputs": [
    {
     "data": {
      "text/html": [
       "<div>\n",
       "<style scoped>\n",
       "    .dataframe tbody tr th:only-of-type {\n",
       "        vertical-align: middle;\n",
       "    }\n",
       "\n",
       "    .dataframe tbody tr th {\n",
       "        vertical-align: top;\n",
       "    }\n",
       "\n",
       "    .dataframe thead th {\n",
       "        text-align: right;\n",
       "    }\n",
       "</style>\n",
       "<table border=\"1\" class=\"dataframe\">\n",
       "  <thead>\n",
       "    <tr style=\"text-align: right;\">\n",
       "      <th></th>\n",
       "      <th>Id</th>\n",
       "      <th>filename</th>\n",
       "    </tr>\n",
       "  </thead>\n",
       "  <tbody>\n",
       "    <tr>\n",
       "      <th>0</th>\n",
       "      <td>0678</td>\n",
       "      <td>/run/user/1000/gvfs/smb-share:server=titan.local,share=datasets/kitchenware-classification/images/0678.jpg</td>\n",
       "    </tr>\n",
       "    <tr>\n",
       "      <th>1</th>\n",
       "      <td>3962</td>\n",
       "      <td>/run/user/1000/gvfs/smb-share:server=titan.local,share=datasets/kitchenware-classification/images/3962.jpg</td>\n",
       "    </tr>\n",
       "    <tr>\n",
       "      <th>2</th>\n",
       "      <td>9271</td>\n",
       "      <td>/run/user/1000/gvfs/smb-share:server=titan.local,share=datasets/kitchenware-classification/images/9271.jpg</td>\n",
       "    </tr>\n",
       "    <tr>\n",
       "      <th>3</th>\n",
       "      <td>5133</td>\n",
       "      <td>/run/user/1000/gvfs/smb-share:server=titan.local,share=datasets/kitchenware-classification/images/5133.jpg</td>\n",
       "    </tr>\n",
       "    <tr>\n",
       "      <th>4</th>\n",
       "      <td>8842</td>\n",
       "      <td>/run/user/1000/gvfs/smb-share:server=titan.local,share=datasets/kitchenware-classification/images/8842.jpg</td>\n",
       "    </tr>\n",
       "  </tbody>\n",
       "</table>\n",
       "</div>"
      ],
      "text/plain": [
       "     Id  \\\n",
       "0  0678   \n",
       "1  3962   \n",
       "2  9271   \n",
       "3  5133   \n",
       "4  8842   \n",
       "\n",
       "                                                                                                     filename  \n",
       "0  /run/user/1000/gvfs/smb-share:server=titan.local,share=datasets/kitchenware-classification/images/0678.jpg  \n",
       "1  /run/user/1000/gvfs/smb-share:server=titan.local,share=datasets/kitchenware-classification/images/3962.jpg  \n",
       "2  /run/user/1000/gvfs/smb-share:server=titan.local,share=datasets/kitchenware-classification/images/9271.jpg  \n",
       "3  /run/user/1000/gvfs/smb-share:server=titan.local,share=datasets/kitchenware-classification/images/5133.jpg  \n",
       "4  /run/user/1000/gvfs/smb-share:server=titan.local,share=datasets/kitchenware-classification/images/8842.jpg  "
      ]
     },
     "execution_count": 15,
     "metadata": {},
     "output_type": "execute_result"
    }
   ],
   "source": [
    "df_test = pd.read_csv(data_dir+'/test.csv', dtype={'Id': str})\n",
    "df_test['filename'] = data_dir+'/images/' + df_test['Id'] + '.jpg'\n",
    "df_test.head()"
   ]
  },
  {
   "cell_type": "code",
   "execution_count": 16,
   "id": "d3cb42dd-e273-4d01-a323-9e9cb4d27824",
   "metadata": {},
   "outputs": [
    {
     "name": "stdout",
     "output_type": "stream",
     "text": [
      "Found 3808 validated image filenames.\n"
     ]
    }
   ],
   "source": [
    "test_datagen = ImageDataGenerator(preprocessing_function=preprocess_input)\n",
    "test_generator = test_datagen.flow_from_dataframe(\n",
    "    df_test,\n",
    "    x_col='filename',\n",
    "    class_mode='input',\n",
    "    target_size=(image_width, image_height),\n",
    "    batch_size=batch_size,\n",
    "    shuffle=False\n",
    ")"
   ]
  },
  {
   "cell_type": "code",
   "execution_count": 17,
   "id": "a4a1dd6d-1f80-414f-9908-9f92e2a38db3",
   "metadata": {},
   "outputs": [
    {
     "name": "stdout",
     "output_type": "stream",
     "text": [
      "119/119 [==============================] - 120s 1s/step\n"
     ]
    }
   ],
   "source": [
    "y_pred = model.predict(test_generator)"
   ]
  },
  {
   "cell_type": "code",
   "execution_count": 18,
   "id": "27321e9f-66f6-4e61-bde8-770e9220e552",
   "metadata": {},
   "outputs": [
    {
     "data": {
      "text/plain": [
       "array(['cup', 'fork', 'glass', 'knife', 'plate', 'spoon'], dtype='<U5')"
      ]
     },
     "execution_count": 18,
     "metadata": {},
     "output_type": "execute_result"
    }
   ],
   "source": [
    "classes = np.array(list(train_generator.class_indices.keys()))\n",
    "classes"
   ]
  },
  {
   "cell_type": "code",
   "execution_count": 19,
   "id": "09f1da95-cc6b-418c-bd5c-a8e239acc5a3",
   "metadata": {},
   "outputs": [],
   "source": [
    "predictions = classes[y_pred.argmax(axis=1)]"
   ]
  },
  {
   "cell_type": "code",
   "execution_count": 20,
   "id": "6f623ef2-2fab-4a05-bba1-402535630bc3",
   "metadata": {},
   "outputs": [],
   "source": [
    "df_submission = pd.DataFrame()\n",
    "df_submission['filename'] = test_generator.filenames\n",
    "df_submission['label'] = predictions\n",
    "\n",
    "df_submission['Id'] = df_submission.filename.str[len(data_dir+'/images/'):-4]\n",
    "del df_submission['filename']"
   ]
  },
  {
   "cell_type": "code",
   "execution_count": 21,
   "id": "fd372b12-60c6-4ff1-8af0-24963fa02daa",
   "metadata": {},
   "outputs": [],
   "source": [
    "df_submission[['Id', 'label']].to_csv('submissions/effb2_imnet_v4_more_forks.csv', index=False)"
   ]
  },
  {
   "cell_type": "code",
   "execution_count": 22,
   "id": "e56a2b76-875c-486d-8b11-66766c994b66",
   "metadata": {},
   "outputs": [
    {
     "name": "stdout",
     "output_type": "stream",
     "text": [
      "100%|██████████████████████████████████████| 38.8k/38.8k [00:02<00:00, 17.2kB/s]\n",
      "Successfully submitted to Kitchenware Classification"
     ]
    }
   ],
   "source": [
    "!kaggle competitions submit kitchenware-classification -f submissions/effb2_imnet_v4_more_forks.csv -m 'validation: 0.9601'"
   ]
  },
  {
   "cell_type": "code",
   "execution_count": null,
   "id": "b736711a-2bc0-43c3-baa2-f4c1fd3aab74",
   "metadata": {},
   "outputs": [],
   "source": []
  }
 ],
 "metadata": {
  "kernelspec": {
   "display_name": "Python 3 (ipykernel)",
   "language": "python",
   "name": "python3"
  },
  "language_info": {
   "codemirror_mode": {
    "name": "ipython",
    "version": 3
   },
   "file_extension": ".py",
   "mimetype": "text/x-python",
   "name": "python",
   "nbconvert_exporter": "python",
   "pygments_lexer": "ipython3",
   "version": "3.10.6"
  }
 },
 "nbformat": 4,
 "nbformat_minor": 5
}
